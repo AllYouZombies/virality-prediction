{
  "nbformat": 4,
  "nbformat_minor": 0,
  "metadata": {
    "colab": {
      "name": "CIS 519 Team Project Preprocessing.ipynb",
      "provenance": [],
      "collapsed_sections": []
    },
    "kernelspec": {
      "name": "python3",
      "display_name": "Python 3"
    },
    "language_info": {
      "name": "python"
    }
  },
  "cells": [
    {
      "cell_type": "markdown",
      "metadata": {
        "id": "WkqShEdli3CN"
      },
      "source": [
        "# Trending Data"
      ]
    },
    {
      "cell_type": "markdown",
      "metadata": {
        "id": "5cznLJg3eTPp"
      },
      "source": [
        "# 0 - import lib, load data"
      ]
    },
    {
      "cell_type": "markdown",
      "metadata": {
        "id": "Jk4nXXZwb3xw"
      },
      "source": [
        "## 0.0 - import libraries"
      ]
    },
    {
      "cell_type": "code",
      "metadata": {
        "id": "opSW4lbdabTT"
      },
      "source": [
        "import os\n",
        "import json\n",
        "import numpy as np\n",
        "import pandas as pd\n",
        "import matplotlib.pyplot as plt\n",
        "import matplotlib.patches as patches\n",
        "import seaborn as sns\n",
        "\n",
        "import plotly.express as px\n",
        "import plotly.graph_objects as go\n",
        "from plotly.offline import init_notebook_mode, iplot, plot\n",
        "from plotly.subplots import make_subplots\n",
        "\n",
        "from IPython.core.display import HTML\n",
        "from IPython.display import Image, Audio\n",
        "\n",
        "%matplotlib inline\n",
        "# Wrapper around pandas cut() method.\n",
        "def my_cut (x, bins, lower_infinite=False, upper_infinite=False, **kwargs):\n",
        "    \"\"\"\n",
        "    Wrapper around pandas cut() to create infinite lower/upper bounds with proper labeling.\n",
        "\n",
        "    Takes all the same arguments as pandas cut(), plus two more.\n",
        "\n",
        "    Args :\n",
        "        lower_infinite (bool, optional) : set whether the lower bound is infinite\n",
        "            Default is True. If true, and your first bin element is something like 20, the\n",
        "            first bin label will be '<= 20' (depending on other cut() parameters)\n",
        "        upper_infinite (bool, optional) : set whether the upper bound is infinite\n",
        "            Default is True. If true, and your last bin element is something like 20, the\n",
        "            first bin label will be '> 20' (depending on other cut() parameters)\n",
        "        **kwargs : any standard pandas cut() labeled parameters\n",
        "\n",
        "    Returns :\n",
        "        out : same as pandas cut() return value\n",
        "        bins : same as pandas cut() return value\n",
        "    \n",
        "    Code slidely modified from sparc_spread, StackOverflow: https://stackoverflow.com/a/30199132/1843511\n",
        "    \"\"\"\n",
        "\n",
        "    # Quick passthru if no infinite bounds\n",
        "    if not lower_infinite and not upper_infinite:\n",
        "        return pd.cut(x, bins, **kwargs)\n",
        "\n",
        "    # Setup\n",
        "    num_labels      = len(bins) - 1\n",
        "    include_lowest  = kwargs.get(\"include_lowest\", False)\n",
        "    right           = kwargs.get(\"right\", True)\n",
        "\n",
        "    # Prepend/Append infinities where indiciated\n",
        "    bins_final = bins.copy()\n",
        "    if upper_infinite:\n",
        "        bins_final.insert(len(bins),float(\"inf\"))\n",
        "        num_labels += 1\n",
        "    if lower_infinite:\n",
        "        bins_final.insert(0,float(\"-inf\"))\n",
        "        num_labels += 1\n",
        "\n",
        "    # Decide all boundary symbols based on traditional cut() parameters\n",
        "    symbol_lower  = \"<=\" if include_lowest and right else \"<\"\n",
        "    left_bracket  = \"(\" if right else \"[\"\n",
        "    right_bracket = \"]\" if right else \")\"\n",
        "    symbol_upper  = \">\" if right else \">=\"\n",
        "\n",
        "    # Inner function reused in multiple clauses for labeling\n",
        "    def make_label(i, lb=left_bracket, rb=right_bracket):\n",
        "        return \"{0} - {1}\".format(bins_final[i], bins_final[i+1])\n",
        "\n",
        "    # Create custom labels\n",
        "    labels=[]\n",
        "    for i in range(0,num_labels):\n",
        "        new_label = None\n",
        "\n",
        "        if i == 0:\n",
        "            if lower_infinite:\n",
        "                new_label = \"{0} {1}\".format(symbol_lower, bins_final[i+1])\n",
        "            elif include_lowest:\n",
        "                new_label = make_label(i, lb=\"[\")\n",
        "            else:\n",
        "                new_label = make_label(i)\n",
        "        elif upper_infinite and i == (num_labels - 1):\n",
        "            new_label = \"{0} {1}\".format(symbol_upper, bins_final[i])\n",
        "        else:\n",
        "            new_label = make_label(i)\n",
        "\n",
        "        labels.append(new_label)\n",
        "\n",
        "    # Pass thru to pandas cut()\n",
        "    return pd.cut(x, bins_final, labels=labels, **kwargs)"
      ],
      "execution_count": 1,
      "outputs": []
    },
    {
      "cell_type": "markdown",
      "metadata": {
        "id": "H7k7bWrFb-FT"
      },
      "source": [
        "## 0.1 - load data from file"
      ]
    },
    {
      "cell_type": "code",
      "metadata": {
        "colab": {
          "base_uri": "https://localhost:8080/"
        },
        "id": "J4ZZetYQk2DQ",
        "outputId": "b5210bd4-fbeb-4ac7-a846-1d24b09f8518"
      },
      "source": [
        "!ls"
      ],
      "execution_count": null,
      "outputs": [
        {
          "output_type": "stream",
          "name": "stdout",
          "text": [
            "drive  sample_data\n"
          ]
        }
      ]
    },
    {
      "cell_type": "code",
      "metadata": {
        "colab": {
          "base_uri": "https://localhost:8080/"
        },
        "id": "D_jhj6jLbiVw",
        "outputId": "6c3987ac-e963-4301-ec2c-db599aef98e4"
      },
      "source": [
        "# Open file with the raw data\n",
        "file = open('drive/Shareddrives/CIS519/archive/trending.json', encoding=\"utf8\")\n",
        "\n",
        "# Load data as JSON\n",
        "raw_data = json.load(file)\n",
        "\n",
        "# Close the original file\n",
        "file.close()\n",
        "\n",
        "# Select only the list with the video data\n",
        "trending_videos_list = raw_data['collector']\n",
        "\n",
        "# Example of a video object\n",
        "print(json.dumps(trending_videos_list[15], indent=4, sort_keys=True))"
      ],
      "execution_count": 2,
      "outputs": [
        {
          "output_type": "stream",
          "name": "stdout",
          "text": [
            "{\n",
            "    \"authorMeta\": {\n",
            "        \"avatar\": \"https://p77-sign-sg.tiktokcdn.com/tos-maliva-avt-0068/ce5595b5c4874a234d0e41feec9b4ef9~c5_1080x1080.jpeg?x-expires=1608649200&x-signature=HXQeWxkqcbcR2JEz9JRdZWOhJ%2Fw%3D\",\n",
            "        \"id\": \"6563548229581422598\",\n",
            "        \"name\": \"jhullyduarte\",\n",
            "        \"nickName\": \"Jhully Duarte\",\n",
            "        \"secUid\": \"MS4wLjABAAAAByNqbJCtA9PfwY1ICwGomesu7URs6GhushkQeWleqhqsTSRmCKKi1GpUXOWabnbI\",\n",
            "        \"signature\": \"\\ud83e\\udd2a\\ud83e\\udd2a\",\n",
            "        \"verified\": false\n",
            "    },\n",
            "    \"commentCount\": 267,\n",
            "    \"covers\": {\n",
            "        \"default\": \"https://p16-sign-sg.tiktokcdn.com/obj/tos-maliva-p-0068/6416d73acd5a47c0bb04c0982e4b973e?x-expires=1608584400&x-signature=qa5fI0p5HrD71YMq70ImAirJtzI%3D\",\n",
            "        \"dynamic\": \"https://p16-sign-sg.tiktokcdn.com/obj/tos-maliva-p-0068/b45558f5231340cdbf9f34f5574cc98c_1608239182?x-expires=1608584400&x-signature=IWs7ofM62Z2%2FcvyxJhpYLZowafM%3D\",\n",
            "        \"origin\": \"https://p16-sign-sg.tiktokcdn.com/obj/tos-maliva-p-0068/c137bcc58fcc4798b30526dbb2643b25_1608239182?x-expires=1608584400&x-signature=AhnO7H08v%2BffKxtFhoKtItqWOck%3D\"\n",
            "    },\n",
            "    \"createTime\": 1608239180,\n",
            "    \"diggCount\": 14500,\n",
            "    \"downloaded\": true,\n",
            "    \"hashtags\": [\n",
            "        {\n",
            "            \"cover\": \"\",\n",
            "            \"id\": \"5054\",\n",
            "            \"name\": \"dance\",\n",
            "            \"title\": \"\"\n",
            "        },\n",
            "        {\n",
            "            \"cover\": \"\",\n",
            "            \"id\": \"12654842\",\n",
            "            \"name\": \"garrafa\",\n",
            "            \"title\": \"\"\n",
            "        },\n",
            "        {\n",
            "            \"cover\": \"https://p77-sg.tiktokcdn.com/obj/tiktok-obj/4be9ef52956daf3f357575a507ffbd2a\",\n",
            "            \"id\": \"38180458\",\n",
            "            \"name\": \"horadearrasar\",\n",
            "            \"title\": \"Use o novo Modelo de V\\u00eddeo (MV) do TikTok e arrase na trend com suas melhores fotos! \\ud83d\\ude0e\"\n",
            "        },\n",
            "        {\n",
            "            \"cover\": \"\",\n",
            "            \"id\": \"5932\",\n",
            "            \"name\": \"girl\",\n",
            "            \"title\": \"\"\n",
            "        },\n",
            "        {\n",
            "            \"cover\": \"\",\n",
            "            \"id\": \"19011\",\n",
            "            \"name\": \"challenge\",\n",
            "            \"title\": \"\"\n",
            "        },\n",
            "        {\n",
            "            \"cover\": \"\",\n",
            "            \"id\": \"19036\",\n",
            "            \"name\": \"musically\",\n",
            "            \"title\": \"\"\n",
            "        },\n",
            "        {\n",
            "            \"cover\": \"\",\n",
            "            \"id\": \"5636\",\n",
            "            \"name\": \"music\",\n",
            "            \"title\": \"\"\n",
            "        }\n",
            "    ],\n",
            "    \"id\": \"6907334602017344774\",\n",
            "    \"mentions\": [],\n",
            "    \"musicMeta\": {\n",
            "        \"coverLarge\": \"https://p77-sign-sg.tiktokcdn.com/tos-maliva-avt-0068/ce5595b5c4874a234d0e41feec9b4ef9~c5_1080x1080.jpeg?x-expires=1608649200&x-signature=HXQeWxkqcbcR2JEz9JRdZWOhJ%2Fw%3D\",\n",
            "        \"coverMedium\": \"https://p77-sign-sg.tiktokcdn.com/tos-maliva-avt-0068/ce5595b5c4874a234d0e41feec9b4ef9~c5_720x720.jpeg?x-expires=1608649200&x-signature=bhzh7fRrRGvhDvYE4ik7rR6miQc%3D\",\n",
            "        \"coverThumb\": \"https://p77-sign-sg.tiktokcdn.com/tos-maliva-avt-0068/ce5595b5c4874a234d0e41feec9b4ef9~c5_100x100.jpeg?x-expires=1608649200&x-signature=wz2qCdMjj8T7k%2FWqgDq%2FaI1sZNY%3D\",\n",
            "        \"musicAuthor\": \"Jhully Duarte\",\n",
            "        \"musicId\": \"6907334593603554053\",\n",
            "        \"musicName\": \"som original\",\n",
            "        \"musicOriginal\": true,\n",
            "        \"playUrl\": \"https://sf77-sg.tiktokcdn.com/obj/musically-maliva-obj/6907334455057255174.mp3\"\n",
            "    },\n",
            "    \"playCount\": 174400,\n",
            "    \"shareCount\": 470,\n",
            "    \"text\": \"#dance #garrafa #horadearrasar #girl #challenge #musically #music\",\n",
            "    \"videoMeta\": {\n",
            "        \"duration\": 13,\n",
            "        \"height\": 1136,\n",
            "        \"width\": 576\n",
            "    },\n",
            "    \"videoUrl\": \"https://v77.tiktokcdn.com/2acf8f69b9d5ba3d9ae02a771aae86bc/5fe11a68/video/tos/useast2a/tos-useast2a-ve-0068c004/ac8ab4c5603d405288f1e83a9c30883f/?a=1233&br=2148&bt=1074&cd=0%7C0%7C1&cr=0&cs=0&cv=1&dr=0&ds=3&er=&l=2020122115574701019020909243127031&lr=tiktok_m&mime_type=video_mp4&qs=0&rc=Mztxbml0NWt2eTMzODczM0ApZzw3NTY8Njw8Nzo8ZTVmM2c2MWUvMmExZGFfLS0xMTZzc2JiLy4tXy9hMjQuLzA1L2A6Yw%3D%3D&vl=&vr=\",\n",
            "    \"videoUrlNoWaterMark\": \"\",\n",
            "    \"webVideoUrl\": \"https://www.tiktok.com/@jhullyduarte/video/6907334602017344774\"\n",
            "}\n"
          ]
        }
      ]
    },
    {
      "cell_type": "markdown",
      "metadata": {
        "id": "NLbTc0rFcHdl"
      },
      "source": [
        "The `explode()` function is used to transform each element of a list-like to a row, replicating the index values. \n",
        "So we would like to perform the following steps:\n",
        "\n",
        "1. Set each column we would like to keep as index, temporarily.\n",
        "2. Converting the comma separated values to a list\n",
        "3. Create a new row for each value by using the `explode()` function, which copies all index fields as well\n",
        "4. Resetting the index\n"
      ]
    },
    {
      "cell_type": "code",
      "metadata": {
        "id": "Wx5nDTDJbon8"
      },
      "source": [
        "# Create a DataFrame of the data\n",
        "df_tiktok_dataset = pd.DataFrame(trending_videos_list)\n",
        "\n",
        "# Let's expand the hashtag cell containing lists to multiple rows\n",
        "df_tiktok_dataset = df_tiktok_dataset.explode('hashtags').explode('mentions')"
      ],
      "execution_count": 3,
      "outputs": []
    },
    {
      "cell_type": "code",
      "metadata": {
        "colab": {
          "base_uri": "https://localhost:8080/",
          "height": 1000
        },
        "id": "VXyP0rHobrdZ",
        "outputId": "473920c3-f90d-4587-cb78-f8e26867292b"
      },
      "source": [
        "def object_to_columns(dfRow, **kwargs):\n",
        "    '''Function to expand cells containing dictionaries, to columns'''\n",
        "    for column, prefix in kwargs.items():\n",
        "        if isinstance(dfRow[column], dict):\n",
        "            for key, value in dfRow[column].items():\n",
        "                columnName = '{}.{}'.format(prefix, key)\n",
        "                dfRow[columnName] = value\n",
        "    return dfRow\n",
        "\n",
        "# Expand certain cells containing dictionaries to columns\n",
        "df_tiktok_dataset = df_tiktok_dataset.apply(object_to_columns, \n",
        "                            authorMeta='authorMeta',  \n",
        "                            musicMeta='musicMeta',\n",
        "                            covers='cover',\n",
        "                            videoMeta='videoMeta',\n",
        "                            hashtags='hashtag', axis = 1)\n",
        "\n",
        "# Remove the original columns containing the dictionaries\n",
        "df_tiktok_dataset = df_tiktok_dataset.drop(['authorMeta','musicMeta','covers','videoMeta','hashtags'], axis = 1)\n",
        "df_tiktok_dataset"
      ],
      "execution_count": 4,
      "outputs": [
        {
          "output_type": "execute_result",
          "data": {
            "text/html": [
              "<div>\n",
              "<style scoped>\n",
              "    .dataframe tbody tr th:only-of-type {\n",
              "        vertical-align: middle;\n",
              "    }\n",
              "\n",
              "    .dataframe tbody tr th {\n",
              "        vertical-align: top;\n",
              "    }\n",
              "\n",
              "    .dataframe thead th {\n",
              "        text-align: right;\n",
              "    }\n",
              "</style>\n",
              "<table border=\"1\" class=\"dataframe\">\n",
              "  <thead>\n",
              "    <tr style=\"text-align: right;\">\n",
              "      <th></th>\n",
              "      <th>authorMeta.avatar</th>\n",
              "      <th>authorMeta.id</th>\n",
              "      <th>authorMeta.name</th>\n",
              "      <th>authorMeta.nickName</th>\n",
              "      <th>authorMeta.secUid</th>\n",
              "      <th>authorMeta.signature</th>\n",
              "      <th>authorMeta.verified</th>\n",
              "      <th>commentCount</th>\n",
              "      <th>cover.default</th>\n",
              "      <th>cover.dynamic</th>\n",
              "      <th>cover.origin</th>\n",
              "      <th>createTime</th>\n",
              "      <th>diggCount</th>\n",
              "      <th>downloaded</th>\n",
              "      <th>hashtag.cover</th>\n",
              "      <th>hashtag.id</th>\n",
              "      <th>hashtag.name</th>\n",
              "      <th>hashtag.title</th>\n",
              "      <th>id</th>\n",
              "      <th>mentions</th>\n",
              "      <th>musicMeta.coverLarge</th>\n",
              "      <th>musicMeta.coverMedium</th>\n",
              "      <th>musicMeta.coverThumb</th>\n",
              "      <th>musicMeta.musicAuthor</th>\n",
              "      <th>musicMeta.musicId</th>\n",
              "      <th>musicMeta.musicName</th>\n",
              "      <th>musicMeta.musicOriginal</th>\n",
              "      <th>musicMeta.playUrl</th>\n",
              "      <th>playCount</th>\n",
              "      <th>shareCount</th>\n",
              "      <th>text</th>\n",
              "      <th>videoMeta.duration</th>\n",
              "      <th>videoMeta.height</th>\n",
              "      <th>videoMeta.width</th>\n",
              "      <th>videoUrl</th>\n",
              "      <th>videoUrlNoWaterMark</th>\n",
              "      <th>webVideoUrl</th>\n",
              "    </tr>\n",
              "  </thead>\n",
              "  <tbody>\n",
              "    <tr>\n",
              "      <th>0</th>\n",
              "      <td>https://p16-sign-sg.tiktokcdn.com/aweme/1080x1...</td>\n",
              "      <td>6825540583826768902</td>\n",
              "      <td>ninakleij</td>\n",
              "      <td>Nina</td>\n",
              "      <td>MS4wLjABAAAA1FfFjRMUzr0hX2YPT7pRr7bCPQWa-kU_kV...</td>\n",
              "      <td>don’t tell my instagram I’m here\\n19 👸🏼</td>\n",
              "      <td>False</td>\n",
              "      <td>68</td>\n",
              "      <td>https://p16-sign-sg.tiktokcdn.com/obj/tos-alis...</td>\n",
              "      <td>https://p16-sign-sg.tiktokcdn.com/obj/tos-alis...</td>\n",
              "      <td>https://p16-sign-sg.tiktokcdn.com/obj/tos-alis...</td>\n",
              "      <td>1608214517</td>\n",
              "      <td>3710</td>\n",
              "      <td>True</td>\n",
              "      <td>NaN</td>\n",
              "      <td>NaN</td>\n",
              "      <td>NaN</td>\n",
              "      <td>NaN</td>\n",
              "      <td>6907228749016714497</td>\n",
              "      <td>NaN</td>\n",
              "      <td>https://p77-sg.tiktokcdn.com/aweme/720x720/tos...</td>\n",
              "      <td>https://p77-sg.tiktokcdn.com/aweme/200x200/tos...</td>\n",
              "      <td>https://p77-sg.tiktokcdn.com/aweme/100x100/tos...</td>\n",
              "      <td>Pop Smoke</td>\n",
              "      <td>6790057285814061057</td>\n",
              "      <td>Element</td>\n",
              "      <td>False</td>\n",
              "      <td>https://sf16-sg.tiktokcdn.com/obj/tos-alisg-v-...</td>\n",
              "      <td>44800</td>\n",
              "      <td>50</td>\n",
              "      <td>Confidence went 📈</td>\n",
              "      <td>15</td>\n",
              "      <td>1024</td>\n",
              "      <td>576</td>\n",
              "      <td>https://v77.tiktokcdn.com/ed1f811617d7b5e18b8d...</td>\n",
              "      <td></td>\n",
              "      <td>https://www.tiktok.com/@ninakleij/video/690722...</td>\n",
              "    </tr>\n",
              "    <tr>\n",
              "      <th>1</th>\n",
              "      <td>https://p16-sign-va.tiktokcdn.com/musically-ma...</td>\n",
              "      <td>6729292817489986566</td>\n",
              "      <td>joeysofo</td>\n",
              "      <td>JoeySofo</td>\n",
              "      <td>MS4wLjABAAAAvkCSTiPWJm7Ctqp7AN3mauS_Bi8tVrbtBg...</td>\n",
              "      <td>Tinder couldn’t help me lose my virginity so I...</td>\n",
              "      <td>False</td>\n",
              "      <td>936</td>\n",
              "      <td>https://p16-sign-sg.tiktokcdn.com/obj/tos-mali...</td>\n",
              "      <td>https://p16-sign-sg.tiktokcdn.com/obj/tos-mali...</td>\n",
              "      <td>https://p16-sign-sg.tiktokcdn.com/obj/tos-mali...</td>\n",
              "      <td>1600819763</td>\n",
              "      <td>55700</td>\n",
              "      <td>True</td>\n",
              "      <td>NaN</td>\n",
              "      <td>NaN</td>\n",
              "      <td>NaN</td>\n",
              "      <td>NaN</td>\n",
              "      <td>6875468410612993286</td>\n",
              "      <td>@dwight_schnuute</td>\n",
              "      <td>https://p77-sign-sg.tiktokcdn.com/musically-ma...</td>\n",
              "      <td>https://p77-sign-sg.tiktokcdn.com/musically-ma...</td>\n",
              "      <td>https://p16-sign-sg.tiktokcdn.com/musically-ma...</td>\n",
              "      <td>rapidsongs</td>\n",
              "      <td>6678927595137977094</td>\n",
              "      <td>Without Me</td>\n",
              "      <td>True</td>\n",
              "      <td>https://sf77-sg.tiktokcdn.com/obj/musically-ma...</td>\n",
              "      <td>838100</td>\n",
              "      <td>1817</td>\n",
              "      <td>Quiet Zone... follow me on insta: joeysofo. Co...</td>\n",
              "      <td>11</td>\n",
              "      <td>1024</td>\n",
              "      <td>576</td>\n",
              "      <td>https://v77.tiktokcdn.com/ab935f1975cb8b69aebf...</td>\n",
              "      <td></td>\n",
              "      <td>https://www.tiktok.com/@joeysofo/video/6875468...</td>\n",
              "    </tr>\n",
              "    <tr>\n",
              "      <th>2</th>\n",
              "      <td>https://p16-sign-sg.tiktokcdn.com/aweme/1080x1...</td>\n",
              "      <td>6791901371429913601</td>\n",
              "      <td>jackeyephone</td>\n",
              "      <td>JackJacko</td>\n",
              "      <td>MS4wLjABAAAAsI8XQOceYtnIhIbLZLhvz24tOWdWYavlPe...</td>\n",
              "      <td>Zakelijk 📩 jackeyephone@gmail.com\\nInstagram: ...</td>\n",
              "      <td>False</td>\n",
              "      <td>27100</td>\n",
              "      <td>https://p16-sign-sg.tiktokcdn.com/obj/tos-alis...</td>\n",
              "      <td>https://p16-sign-sg.tiktokcdn.com/obj/tos-alis...</td>\n",
              "      <td>https://p16-sign-sg.tiktokcdn.com/obj/tos-alis...</td>\n",
              "      <td>1606228625</td>\n",
              "      <td>936200</td>\n",
              "      <td>True</td>\n",
              "      <td></td>\n",
              "      <td>23428</td>\n",
              "      <td>tiktok</td>\n",
              "      <td></td>\n",
              "      <td>6898699405898059010</td>\n",
              "      <td>NaN</td>\n",
              "      <td>https://p77-sg.tiktokcdn.com/aweme/720x720/tos...</td>\n",
              "      <td>https://p77-sg.tiktokcdn.com/aweme/200x200/tos...</td>\n",
              "      <td>https://p77-sg.tiktokcdn.com/aweme/100x100/tos...</td>\n",
              "      <td>Sigurd Barrett</td>\n",
              "      <td>6881287666340481026</td>\n",
              "      <td>Pilfingerdansen - Remix</td>\n",
              "      <td>False</td>\n",
              "      <td>https://sf16-sg.tiktokcdn.com/obj/tos-alisg-v-...</td>\n",
              "      <td>15300000</td>\n",
              "      <td>21100</td>\n",
              "      <td>Iphone bend test🤗 #tiktok #viral #fyp #iphone ...</td>\n",
              "      <td>19</td>\n",
              "      <td>960</td>\n",
              "      <td>540</td>\n",
              "      <td>https://v21.tiktokcdn.com/video/tos/alisg/tos-...</td>\n",
              "      <td></td>\n",
              "      <td>https://www.tiktok.com/@jackeyephone/video/689...</td>\n",
              "    </tr>\n",
              "    <tr>\n",
              "      <th>2</th>\n",
              "      <td>https://p16-sign-sg.tiktokcdn.com/aweme/1080x1...</td>\n",
              "      <td>6791901371429913601</td>\n",
              "      <td>jackeyephone</td>\n",
              "      <td>JackJacko</td>\n",
              "      <td>MS4wLjABAAAAsI8XQOceYtnIhIbLZLhvz24tOWdWYavlPe...</td>\n",
              "      <td>Zakelijk 📩 jackeyephone@gmail.com\\nInstagram: ...</td>\n",
              "      <td>False</td>\n",
              "      <td>27100</td>\n",
              "      <td>https://p16-sign-sg.tiktokcdn.com/obj/tos-alis...</td>\n",
              "      <td>https://p16-sign-sg.tiktokcdn.com/obj/tos-alis...</td>\n",
              "      <td>https://p16-sign-sg.tiktokcdn.com/obj/tos-alis...</td>\n",
              "      <td>1606228625</td>\n",
              "      <td>936200</td>\n",
              "      <td>True</td>\n",
              "      <td></td>\n",
              "      <td>20884</td>\n",
              "      <td>viral</td>\n",
              "      <td></td>\n",
              "      <td>6898699405898059010</td>\n",
              "      <td>NaN</td>\n",
              "      <td>https://p77-sg.tiktokcdn.com/aweme/720x720/tos...</td>\n",
              "      <td>https://p77-sg.tiktokcdn.com/aweme/200x200/tos...</td>\n",
              "      <td>https://p77-sg.tiktokcdn.com/aweme/100x100/tos...</td>\n",
              "      <td>Sigurd Barrett</td>\n",
              "      <td>6881287666340481026</td>\n",
              "      <td>Pilfingerdansen - Remix</td>\n",
              "      <td>False</td>\n",
              "      <td>https://sf16-sg.tiktokcdn.com/obj/tos-alisg-v-...</td>\n",
              "      <td>15300000</td>\n",
              "      <td>21100</td>\n",
              "      <td>Iphone bend test🤗 #tiktok #viral #fyp #iphone ...</td>\n",
              "      <td>19</td>\n",
              "      <td>960</td>\n",
              "      <td>540</td>\n",
              "      <td>https://v21.tiktokcdn.com/video/tos/alisg/tos-...</td>\n",
              "      <td></td>\n",
              "      <td>https://www.tiktok.com/@jackeyephone/video/689...</td>\n",
              "    </tr>\n",
              "    <tr>\n",
              "      <th>2</th>\n",
              "      <td>https://p16-sign-sg.tiktokcdn.com/aweme/1080x1...</td>\n",
              "      <td>6791901371429913601</td>\n",
              "      <td>jackeyephone</td>\n",
              "      <td>JackJacko</td>\n",
              "      <td>MS4wLjABAAAAsI8XQOceYtnIhIbLZLhvz24tOWdWYavlPe...</td>\n",
              "      <td>Zakelijk 📩 jackeyephone@gmail.com\\nInstagram: ...</td>\n",
              "      <td>False</td>\n",
              "      <td>27100</td>\n",
              "      <td>https://p16-sign-sg.tiktokcdn.com/obj/tos-alis...</td>\n",
              "      <td>https://p16-sign-sg.tiktokcdn.com/obj/tos-alis...</td>\n",
              "      <td>https://p16-sign-sg.tiktokcdn.com/obj/tos-alis...</td>\n",
              "      <td>1606228625</td>\n",
              "      <td>936200</td>\n",
              "      <td>True</td>\n",
              "      <td></td>\n",
              "      <td>229207</td>\n",
              "      <td>fyp</td>\n",
              "      <td></td>\n",
              "      <td>6898699405898059010</td>\n",
              "      <td>NaN</td>\n",
              "      <td>https://p77-sg.tiktokcdn.com/aweme/720x720/tos...</td>\n",
              "      <td>https://p77-sg.tiktokcdn.com/aweme/200x200/tos...</td>\n",
              "      <td>https://p77-sg.tiktokcdn.com/aweme/100x100/tos...</td>\n",
              "      <td>Sigurd Barrett</td>\n",
              "      <td>6881287666340481026</td>\n",
              "      <td>Pilfingerdansen - Remix</td>\n",
              "      <td>False</td>\n",
              "      <td>https://sf16-sg.tiktokcdn.com/obj/tos-alisg-v-...</td>\n",
              "      <td>15300000</td>\n",
              "      <td>21100</td>\n",
              "      <td>Iphone bend test🤗 #tiktok #viral #fyp #iphone ...</td>\n",
              "      <td>19</td>\n",
              "      <td>960</td>\n",
              "      <td>540</td>\n",
              "      <td>https://v21.tiktokcdn.com/video/tos/alisg/tos-...</td>\n",
              "      <td></td>\n",
              "      <td>https://www.tiktok.com/@jackeyephone/video/689...</td>\n",
              "    </tr>\n",
              "    <tr>\n",
              "      <th>...</th>\n",
              "      <td>...</td>\n",
              "      <td>...</td>\n",
              "      <td>...</td>\n",
              "      <td>...</td>\n",
              "      <td>...</td>\n",
              "      <td>...</td>\n",
              "      <td>...</td>\n",
              "      <td>...</td>\n",
              "      <td>...</td>\n",
              "      <td>...</td>\n",
              "      <td>...</td>\n",
              "      <td>...</td>\n",
              "      <td>...</td>\n",
              "      <td>...</td>\n",
              "      <td>...</td>\n",
              "      <td>...</td>\n",
              "      <td>...</td>\n",
              "      <td>...</td>\n",
              "      <td>...</td>\n",
              "      <td>...</td>\n",
              "      <td>...</td>\n",
              "      <td>...</td>\n",
              "      <td>...</td>\n",
              "      <td>...</td>\n",
              "      <td>...</td>\n",
              "      <td>...</td>\n",
              "      <td>...</td>\n",
              "      <td>...</td>\n",
              "      <td>...</td>\n",
              "      <td>...</td>\n",
              "      <td>...</td>\n",
              "      <td>...</td>\n",
              "      <td>...</td>\n",
              "      <td>...</td>\n",
              "      <td>...</td>\n",
              "      <td>...</td>\n",
              "      <td>...</td>\n",
              "    </tr>\n",
              "    <tr>\n",
              "      <th>999</th>\n",
              "      <td>https://p77-sign-sg.tiktokcdn.com/musically-ma...</td>\n",
              "      <td>6798143079889470469</td>\n",
              "      <td>erinwilliams_1</td>\n",
              "      <td>Erin Williams</td>\n",
              "      <td>MS4wLjABAAAAdEeo7qMCWpjEHQIY8SBaOT4g79XSLKQz0l...</td>\n",
              "      <td>International Dressage Rider for GB 🇬🇧 \\nIG: @...</td>\n",
              "      <td>False</td>\n",
              "      <td>874</td>\n",
              "      <td>https://p16-sign-sg.tiktokcdn.com/tos-alisg-p-...</td>\n",
              "      <td>https://p16-sign-sg.tiktokcdn.com/obj/tos-alis...</td>\n",
              "      <td>https://p16-sign-sg.tiktokcdn.com/obj/tos-alis...</td>\n",
              "      <td>1606325682</td>\n",
              "      <td>58900</td>\n",
              "      <td>True</td>\n",
              "      <td></td>\n",
              "      <td>431293</td>\n",
              "      <td>horsegirl</td>\n",
              "      <td></td>\n",
              "      <td>6899116261746281730</td>\n",
              "      <td>@this_esme</td>\n",
              "      <td>https://p77-sg.tiktokcdn.com/aweme/720x720/tos...</td>\n",
              "      <td>https://p77-sg.tiktokcdn.com/aweme/200x200/tos...</td>\n",
              "      <td>https://p77-sg.tiktokcdn.com/aweme/100x100/tos...</td>\n",
              "      <td>Aly &amp; AJ</td>\n",
              "      <td>57419989</td>\n",
              "      <td>Potential Breakup Song</td>\n",
              "      <td>False</td>\n",
              "      <td>https://sf77-sg.tiktokcdn.com/obj/tiktok-obj/7...</td>\n",
              "      <td>309000</td>\n",
              "      <td>235</td>\n",
              "      <td>The collab you didn’t know you needed, myself ...</td>\n",
              "      <td>14</td>\n",
              "      <td>1022</td>\n",
              "      <td>576</td>\n",
              "      <td>https://v77.tiktokcdn.com/a6a5e4b4310213520be7...</td>\n",
              "      <td></td>\n",
              "      <td>https://www.tiktok.com/@erinwilliams_1/video/6...</td>\n",
              "    </tr>\n",
              "    <tr>\n",
              "      <th>999</th>\n",
              "      <td>https://p77-sign-sg.tiktokcdn.com/musically-ma...</td>\n",
              "      <td>6798143079889470469</td>\n",
              "      <td>erinwilliams_1</td>\n",
              "      <td>Erin Williams</td>\n",
              "      <td>MS4wLjABAAAAdEeo7qMCWpjEHQIY8SBaOT4g79XSLKQz0l...</td>\n",
              "      <td>International Dressage Rider for GB 🇬🇧 \\nIG: @...</td>\n",
              "      <td>False</td>\n",
              "      <td>874</td>\n",
              "      <td>https://p16-sign-sg.tiktokcdn.com/tos-alisg-p-...</td>\n",
              "      <td>https://p16-sign-sg.tiktokcdn.com/obj/tos-alis...</td>\n",
              "      <td>https://p16-sign-sg.tiktokcdn.com/obj/tos-alis...</td>\n",
              "      <td>1606325682</td>\n",
              "      <td>58900</td>\n",
              "      <td>True</td>\n",
              "      <td></td>\n",
              "      <td>8097</td>\n",
              "      <td>equestrian</td>\n",
              "      <td></td>\n",
              "      <td>6899116261746281730</td>\n",
              "      <td>@this_esme</td>\n",
              "      <td>https://p77-sg.tiktokcdn.com/aweme/720x720/tos...</td>\n",
              "      <td>https://p77-sg.tiktokcdn.com/aweme/200x200/tos...</td>\n",
              "      <td>https://p77-sg.tiktokcdn.com/aweme/100x100/tos...</td>\n",
              "      <td>Aly &amp; AJ</td>\n",
              "      <td>57419989</td>\n",
              "      <td>Potential Breakup Song</td>\n",
              "      <td>False</td>\n",
              "      <td>https://sf77-sg.tiktokcdn.com/obj/tiktok-obj/7...</td>\n",
              "      <td>309000</td>\n",
              "      <td>235</td>\n",
              "      <td>The collab you didn’t know you needed, myself ...</td>\n",
              "      <td>14</td>\n",
              "      <td>1022</td>\n",
              "      <td>576</td>\n",
              "      <td>https://v77.tiktokcdn.com/a6a5e4b4310213520be7...</td>\n",
              "      <td></td>\n",
              "      <td>https://www.tiktok.com/@erinwilliams_1/video/6...</td>\n",
              "    </tr>\n",
              "    <tr>\n",
              "      <th>999</th>\n",
              "      <td>https://p77-sign-sg.tiktokcdn.com/musically-ma...</td>\n",
              "      <td>6798143079889470469</td>\n",
              "      <td>erinwilliams_1</td>\n",
              "      <td>Erin Williams</td>\n",
              "      <td>MS4wLjABAAAAdEeo7qMCWpjEHQIY8SBaOT4g79XSLKQz0l...</td>\n",
              "      <td>International Dressage Rider for GB 🇬🇧 \\nIG: @...</td>\n",
              "      <td>False</td>\n",
              "      <td>874</td>\n",
              "      <td>https://p16-sign-sg.tiktokcdn.com/tos-alisg-p-...</td>\n",
              "      <td>https://p16-sign-sg.tiktokcdn.com/obj/tos-alis...</td>\n",
              "      <td>https://p16-sign-sg.tiktokcdn.com/obj/tos-alis...</td>\n",
              "      <td>1606325682</td>\n",
              "      <td>58900</td>\n",
              "      <td>True</td>\n",
              "      <td></td>\n",
              "      <td>17680889</td>\n",
              "      <td>equestriangirl</td>\n",
              "      <td></td>\n",
              "      <td>6899116261746281730</td>\n",
              "      <td>@this_esme</td>\n",
              "      <td>https://p77-sg.tiktokcdn.com/aweme/720x720/tos...</td>\n",
              "      <td>https://p77-sg.tiktokcdn.com/aweme/200x200/tos...</td>\n",
              "      <td>https://p77-sg.tiktokcdn.com/aweme/100x100/tos...</td>\n",
              "      <td>Aly &amp; AJ</td>\n",
              "      <td>57419989</td>\n",
              "      <td>Potential Breakup Song</td>\n",
              "      <td>False</td>\n",
              "      <td>https://sf77-sg.tiktokcdn.com/obj/tiktok-obj/7...</td>\n",
              "      <td>309000</td>\n",
              "      <td>235</td>\n",
              "      <td>The collab you didn’t know you needed, myself ...</td>\n",
              "      <td>14</td>\n",
              "      <td>1022</td>\n",
              "      <td>576</td>\n",
              "      <td>https://v77.tiktokcdn.com/a6a5e4b4310213520be7...</td>\n",
              "      <td></td>\n",
              "      <td>https://www.tiktok.com/@erinwilliams_1/video/6...</td>\n",
              "    </tr>\n",
              "    <tr>\n",
              "      <th>999</th>\n",
              "      <td>https://p77-sign-sg.tiktokcdn.com/musically-ma...</td>\n",
              "      <td>6798143079889470469</td>\n",
              "      <td>erinwilliams_1</td>\n",
              "      <td>Erin Williams</td>\n",
              "      <td>MS4wLjABAAAAdEeo7qMCWpjEHQIY8SBaOT4g79XSLKQz0l...</td>\n",
              "      <td>International Dressage Rider for GB 🇬🇧 \\nIG: @...</td>\n",
              "      <td>False</td>\n",
              "      <td>874</td>\n",
              "      <td>https://p16-sign-sg.tiktokcdn.com/tos-alisg-p-...</td>\n",
              "      <td>https://p16-sign-sg.tiktokcdn.com/obj/tos-alis...</td>\n",
              "      <td>https://p16-sign-sg.tiktokcdn.com/obj/tos-alis...</td>\n",
              "      <td>1606325682</td>\n",
              "      <td>58900</td>\n",
              "      <td>True</td>\n",
              "      <td></td>\n",
              "      <td>8664</td>\n",
              "      <td>riding</td>\n",
              "      <td></td>\n",
              "      <td>6899116261746281730</td>\n",
              "      <td>@this_esme</td>\n",
              "      <td>https://p77-sg.tiktokcdn.com/aweme/720x720/tos...</td>\n",
              "      <td>https://p77-sg.tiktokcdn.com/aweme/200x200/tos...</td>\n",
              "      <td>https://p77-sg.tiktokcdn.com/aweme/100x100/tos...</td>\n",
              "      <td>Aly &amp; AJ</td>\n",
              "      <td>57419989</td>\n",
              "      <td>Potential Breakup Song</td>\n",
              "      <td>False</td>\n",
              "      <td>https://sf77-sg.tiktokcdn.com/obj/tiktok-obj/7...</td>\n",
              "      <td>309000</td>\n",
              "      <td>235</td>\n",
              "      <td>The collab you didn’t know you needed, myself ...</td>\n",
              "      <td>14</td>\n",
              "      <td>1022</td>\n",
              "      <td>576</td>\n",
              "      <td>https://v77.tiktokcdn.com/a6a5e4b4310213520be7...</td>\n",
              "      <td></td>\n",
              "      <td>https://www.tiktok.com/@erinwilliams_1/video/6...</td>\n",
              "    </tr>\n",
              "    <tr>\n",
              "      <th>999</th>\n",
              "      <td>https://p77-sign-sg.tiktokcdn.com/musically-ma...</td>\n",
              "      <td>6798143079889470469</td>\n",
              "      <td>erinwilliams_1</td>\n",
              "      <td>Erin Williams</td>\n",
              "      <td>MS4wLjABAAAAdEeo7qMCWpjEHQIY8SBaOT4g79XSLKQz0l...</td>\n",
              "      <td>International Dressage Rider for GB 🇬🇧 \\nIG: @...</td>\n",
              "      <td>False</td>\n",
              "      <td>874</td>\n",
              "      <td>https://p16-sign-sg.tiktokcdn.com/tos-alisg-p-...</td>\n",
              "      <td>https://p16-sign-sg.tiktokcdn.com/obj/tos-alis...</td>\n",
              "      <td>https://p16-sign-sg.tiktokcdn.com/obj/tos-alis...</td>\n",
              "      <td>1606325682</td>\n",
              "      <td>58900</td>\n",
              "      <td>True</td>\n",
              "      <td></td>\n",
              "      <td>7883</td>\n",
              "      <td>horse</td>\n",
              "      <td></td>\n",
              "      <td>6899116261746281730</td>\n",
              "      <td>@this_esme</td>\n",
              "      <td>https://p77-sg.tiktokcdn.com/aweme/720x720/tos...</td>\n",
              "      <td>https://p77-sg.tiktokcdn.com/aweme/200x200/tos...</td>\n",
              "      <td>https://p77-sg.tiktokcdn.com/aweme/100x100/tos...</td>\n",
              "      <td>Aly &amp; AJ</td>\n",
              "      <td>57419989</td>\n",
              "      <td>Potential Breakup Song</td>\n",
              "      <td>False</td>\n",
              "      <td>https://sf77-sg.tiktokcdn.com/obj/tiktok-obj/7...</td>\n",
              "      <td>309000</td>\n",
              "      <td>235</td>\n",
              "      <td>The collab you didn’t know you needed, myself ...</td>\n",
              "      <td>14</td>\n",
              "      <td>1022</td>\n",
              "      <td>576</td>\n",
              "      <td>https://v77.tiktokcdn.com/a6a5e4b4310213520be7...</td>\n",
              "      <td></td>\n",
              "      <td>https://www.tiktok.com/@erinwilliams_1/video/6...</td>\n",
              "    </tr>\n",
              "  </tbody>\n",
              "</table>\n",
              "<p>5693 rows × 37 columns</p>\n",
              "</div>"
            ],
            "text/plain": [
              "                                     authorMeta.avatar  ...                                        webVideoUrl\n",
              "0    https://p16-sign-sg.tiktokcdn.com/aweme/1080x1...  ...  https://www.tiktok.com/@ninakleij/video/690722...\n",
              "1    https://p16-sign-va.tiktokcdn.com/musically-ma...  ...  https://www.tiktok.com/@joeysofo/video/6875468...\n",
              "2    https://p16-sign-sg.tiktokcdn.com/aweme/1080x1...  ...  https://www.tiktok.com/@jackeyephone/video/689...\n",
              "2    https://p16-sign-sg.tiktokcdn.com/aweme/1080x1...  ...  https://www.tiktok.com/@jackeyephone/video/689...\n",
              "2    https://p16-sign-sg.tiktokcdn.com/aweme/1080x1...  ...  https://www.tiktok.com/@jackeyephone/video/689...\n",
              "..                                                 ...  ...                                                ...\n",
              "999  https://p77-sign-sg.tiktokcdn.com/musically-ma...  ...  https://www.tiktok.com/@erinwilliams_1/video/6...\n",
              "999  https://p77-sign-sg.tiktokcdn.com/musically-ma...  ...  https://www.tiktok.com/@erinwilliams_1/video/6...\n",
              "999  https://p77-sign-sg.tiktokcdn.com/musically-ma...  ...  https://www.tiktok.com/@erinwilliams_1/video/6...\n",
              "999  https://p77-sign-sg.tiktokcdn.com/musically-ma...  ...  https://www.tiktok.com/@erinwilliams_1/video/6...\n",
              "999  https://p77-sign-sg.tiktokcdn.com/musically-ma...  ...  https://www.tiktok.com/@erinwilliams_1/video/6...\n",
              "\n",
              "[5693 rows x 37 columns]"
            ]
          },
          "metadata": {},
          "execution_count": 4
        }
      ]
    },
    {
      "cell_type": "code",
      "metadata": {
        "colab": {
          "base_uri": "https://localhost:8080/"
        },
        "id": "nESDzcnRbsPF",
        "outputId": "c8115ef8-ac71-4291-f616-6e1ab8d254fd"
      },
      "source": [
        "df_tiktok_dataset.info()"
      ],
      "execution_count": 5,
      "outputs": [
        {
          "output_type": "stream",
          "name": "stdout",
          "text": [
            "<class 'pandas.core.frame.DataFrame'>\n",
            "Int64Index: 5693 entries, 0 to 999\n",
            "Data columns (total 37 columns):\n",
            " #   Column                   Non-Null Count  Dtype \n",
            "---  ------                   --------------  ----- \n",
            " 0   authorMeta.avatar        5693 non-null   object\n",
            " 1   authorMeta.id            5693 non-null   object\n",
            " 2   authorMeta.name          5693 non-null   object\n",
            " 3   authorMeta.nickName      5693 non-null   object\n",
            " 4   authorMeta.secUid        5693 non-null   object\n",
            " 5   authorMeta.signature     5693 non-null   object\n",
            " 6   authorMeta.verified      5693 non-null   bool  \n",
            " 7   commentCount             5693 non-null   int64 \n",
            " 8   cover.default            5693 non-null   object\n",
            " 9   cover.dynamic            5693 non-null   object\n",
            " 10  cover.origin             5693 non-null   object\n",
            " 11  createTime               5693 non-null   int64 \n",
            " 12  diggCount                5693 non-null   int64 \n",
            " 13  downloaded               5693 non-null   bool  \n",
            " 14  hashtag.cover            5540 non-null   object\n",
            " 15  hashtag.id               5540 non-null   object\n",
            " 16  hashtag.name             5540 non-null   object\n",
            " 17  hashtag.title            5540 non-null   object\n",
            " 18  id                       5693 non-null   object\n",
            " 19  mentions                 1316 non-null   object\n",
            " 20  musicMeta.coverLarge     5693 non-null   object\n",
            " 21  musicMeta.coverMedium    5693 non-null   object\n",
            " 22  musicMeta.coverThumb     5693 non-null   object\n",
            " 23  musicMeta.musicAuthor    5693 non-null   object\n",
            " 24  musicMeta.musicId        5693 non-null   object\n",
            " 25  musicMeta.musicName      5693 non-null   object\n",
            " 26  musicMeta.musicOriginal  5693 non-null   bool  \n",
            " 27  musicMeta.playUrl        5693 non-null   object\n",
            " 28  playCount                5693 non-null   int64 \n",
            " 29  shareCount               5693 non-null   int64 \n",
            " 30  text                     5693 non-null   object\n",
            " 31  videoMeta.duration       5693 non-null   int64 \n",
            " 32  videoMeta.height         5693 non-null   int64 \n",
            " 33  videoMeta.width          5693 non-null   int64 \n",
            " 34  videoUrl                 5693 non-null   object\n",
            " 35  videoUrlNoWaterMark      5693 non-null   object\n",
            " 36  webVideoUrl              5693 non-null   object\n",
            "dtypes: bool(3), int64(8), object(26)\n",
            "memory usage: 1.5+ MB\n"
          ]
        }
      ]
    },
    {
      "cell_type": "code",
      "metadata": {
        "colab": {
          "base_uri": "https://localhost:8080/",
          "height": 317
        },
        "id": "ohCzaLy5bsRb",
        "outputId": "456a5946-bb7b-4dfc-fe0c-1b6bf6046107"
      },
      "source": [
        "df_tiktok_dataset.describe()"
      ],
      "execution_count": 6,
      "outputs": [
        {
          "output_type": "execute_result",
          "data": {
            "text/html": [
              "<div>\n",
              "<style scoped>\n",
              "    .dataframe tbody tr th:only-of-type {\n",
              "        vertical-align: middle;\n",
              "    }\n",
              "\n",
              "    .dataframe tbody tr th {\n",
              "        vertical-align: top;\n",
              "    }\n",
              "\n",
              "    .dataframe thead th {\n",
              "        text-align: right;\n",
              "    }\n",
              "</style>\n",
              "<table border=\"1\" class=\"dataframe\">\n",
              "  <thead>\n",
              "    <tr style=\"text-align: right;\">\n",
              "      <th></th>\n",
              "      <th>commentCount</th>\n",
              "      <th>createTime</th>\n",
              "      <th>diggCount</th>\n",
              "      <th>playCount</th>\n",
              "      <th>shareCount</th>\n",
              "      <th>videoMeta.duration</th>\n",
              "      <th>videoMeta.height</th>\n",
              "      <th>videoMeta.width</th>\n",
              "    </tr>\n",
              "  </thead>\n",
              "  <tbody>\n",
              "    <tr>\n",
              "      <th>count</th>\n",
              "      <td>5693.000000</td>\n",
              "      <td>5.693000e+03</td>\n",
              "      <td>5.693000e+03</td>\n",
              "      <td>5.693000e+03</td>\n",
              "      <td>5693.000000</td>\n",
              "      <td>5693.000000</td>\n",
              "      <td>5693.000000</td>\n",
              "      <td>5693.000000</td>\n",
              "    </tr>\n",
              "    <tr>\n",
              "      <th>mean</th>\n",
              "      <td>701.559283</td>\n",
              "      <td>1.604877e+09</td>\n",
              "      <td>5.630986e+04</td>\n",
              "      <td>6.062278e+05</td>\n",
              "      <td>1481.563323</td>\n",
              "      <td>20.568066</td>\n",
              "      <td>977.729492</td>\n",
              "      <td>579.945547</td>\n",
              "    </tr>\n",
              "    <tr>\n",
              "      <th>std</th>\n",
              "      <td>8671.442272</td>\n",
              "      <td>2.282009e+06</td>\n",
              "      <td>4.927927e+05</td>\n",
              "      <td>4.554259e+06</td>\n",
              "      <td>8580.033748</td>\n",
              "      <td>14.964944</td>\n",
              "      <td>119.002955</td>\n",
              "      <td>78.260349</td>\n",
              "    </tr>\n",
              "    <tr>\n",
              "      <th>min</th>\n",
              "      <td>0.000000</td>\n",
              "      <td>1.600785e+09</td>\n",
              "      <td>1.300000e+01</td>\n",
              "      <td>4.650000e+02</td>\n",
              "      <td>0.000000</td>\n",
              "      <td>4.000000</td>\n",
              "      <td>352.000000</td>\n",
              "      <td>240.000000</td>\n",
              "    </tr>\n",
              "    <tr>\n",
              "      <th>25%</th>\n",
              "      <td>51.000000</td>\n",
              "      <td>1.602862e+09</td>\n",
              "      <td>3.090000e+03</td>\n",
              "      <td>4.710000e+04</td>\n",
              "      <td>20.000000</td>\n",
              "      <td>10.000000</td>\n",
              "      <td>960.000000</td>\n",
              "      <td>576.000000</td>\n",
              "    </tr>\n",
              "    <tr>\n",
              "      <th>50%</th>\n",
              "      <td>123.000000</td>\n",
              "      <td>1.604961e+09</td>\n",
              "      <td>7.320000e+03</td>\n",
              "      <td>8.190000e+04</td>\n",
              "      <td>82.000000</td>\n",
              "      <td>15.000000</td>\n",
              "      <td>1024.000000</td>\n",
              "      <td>576.000000</td>\n",
              "    </tr>\n",
              "    <tr>\n",
              "      <th>75%</th>\n",
              "      <td>370.000000</td>\n",
              "      <td>1.606932e+09</td>\n",
              "      <td>2.140000e+04</td>\n",
              "      <td>1.973000e+05</td>\n",
              "      <td>388.000000</td>\n",
              "      <td>25.000000</td>\n",
              "      <td>1024.000000</td>\n",
              "      <td>576.000000</td>\n",
              "    </tr>\n",
              "    <tr>\n",
              "      <th>max</th>\n",
              "      <td>625700.000000</td>\n",
              "      <td>1.608521e+09</td>\n",
              "      <td>3.100000e+07</td>\n",
              "      <td>2.508000e+08</td>\n",
              "      <td>220100.000000</td>\n",
              "      <td>60.000000</td>\n",
              "      <td>1248.000000</td>\n",
              "      <td>1248.000000</td>\n",
              "    </tr>\n",
              "  </tbody>\n",
              "</table>\n",
              "</div>"
            ],
            "text/plain": [
              "        commentCount    createTime  ...  videoMeta.height  videoMeta.width\n",
              "count    5693.000000  5.693000e+03  ...       5693.000000      5693.000000\n",
              "mean      701.559283  1.604877e+09  ...        977.729492       579.945547\n",
              "std      8671.442272  2.282009e+06  ...        119.002955        78.260349\n",
              "min         0.000000  1.600785e+09  ...        352.000000       240.000000\n",
              "25%        51.000000  1.602862e+09  ...        960.000000       576.000000\n",
              "50%       123.000000  1.604961e+09  ...       1024.000000       576.000000\n",
              "75%       370.000000  1.606932e+09  ...       1024.000000       576.000000\n",
              "max    625700.000000  1.608521e+09  ...       1248.000000      1248.000000\n",
              "\n",
              "[8 rows x 8 columns]"
            ]
          },
          "metadata": {},
          "execution_count": 6
        }
      ]
    },
    {
      "cell_type": "code",
      "metadata": {
        "colab": {
          "base_uri": "https://localhost:8080/"
        },
        "id": "BKry0JWXbv9j",
        "outputId": "5497d456-2d23-47c2-b270-6f320e9020cd"
      },
      "source": [
        "# Get unique rows from dataset\n",
        "df_unique_videos = df_tiktok_dataset.drop_duplicates(subset='id', keep=\"first\")\n",
        "df_unique_music = df_tiktok_dataset.drop_duplicates(subset='musicMeta.musicId', keep=\"first\")\n",
        "df_unique_authors = df_tiktok_dataset.drop_duplicates(subset='authorMeta.id', keep=\"first\")\n",
        "\n",
        "# Show amount of rows per dataset\n",
        "{\n",
        "    'df_tiktok_dataset': df_tiktok_dataset.shape,\n",
        "    'df_unique_videos': df_unique_videos.shape,\n",
        "    'df_unique_music': df_unique_music.shape,\n",
        "    'df_unique_authors': df_unique_authors.shape\n",
        "}"
      ],
      "execution_count": 7,
      "outputs": [
        {
          "output_type": "execute_result",
          "data": {
            "text/plain": [
              "{'df_tiktok_dataset': (5693, 37),\n",
              " 'df_unique_authors': (802, 37),\n",
              " 'df_unique_music': (907, 37),\n",
              " 'df_unique_videos': (1000, 37)}"
            ]
          },
          "metadata": {},
          "execution_count": 7
        }
      ]
    },
    {
      "cell_type": "markdown",
      "metadata": {
        "id": "pOmsbQwVcc0A"
      },
      "source": [
        "## Datasets to be analyzed further:\n",
        "\n",
        "\n",
        "*   df_tiktok_dataset\n",
        "*   df_unique_videos\n",
        "*   df_unique_dataset\n",
        "*   df_unique_videos\n"
      ]
    },
    {
      "cell_type": "markdown",
      "metadata": {
        "id": "CPYW819nefN_"
      },
      "source": [
        "#1 - Data Analysis"
      ]
    },
    {
      "cell_type": "markdown",
      "metadata": {
        "id": "qkzwiAm3d1VL"
      },
      "source": [
        "## 1.0 - Histogram for every numerical feature"
      ]
    },
    {
      "cell_type": "code",
      "metadata": {
        "colab": {
          "base_uri": "https://localhost:8080/",
          "height": 1000
        },
        "id": "WDz2NSL_bwML",
        "outputId": "7e981f62-03ab-4341-f17a-dcc2f5acc3a6"
      },
      "source": [
        "for feature in df_unique_videos.describe().columns:\n",
        "    df_unique_videos.hist(feature)"
      ],
      "execution_count": null,
      "outputs": [
        {
          "output_type": "display_data",
          "data": {
            "image/png": "[encoded data removed]",
            "text/plain": [
              "<Figure size 432x288 with 1 Axes>"
            ]
          },
          "metadata": {
            "needs_background": "light"
          }
        },
        {
          "output_type": "display_data",
          "data": {
            "image/png": "[encoded data removed]",
            "text/plain": [
              "<Figure size 432x288 with 1 Axes>"
            ]
          },
          "metadata": {
            "needs_background": "light"
          }
        },
        {
          "output_type": "display_data",
          "data": {
            "image/png": "[encoded data removed]",
            "text/plain": [
              "<Figure size 432x288 with 1 Axes>"
            ]
          },
          "metadata": {
            "needs_background": "light"
          }
        },
        {
          "output_type": "display_data",
          "data": {
            "image/png": "[encoded data removed]",
            "text/plain": [
              "<Figure size 432x288 with 1 Axes>"
            ]
          },
          "metadata": {
            "needs_background": "light"
          }
        },
        {
          "output_type": "display_data",
          "data": {
            "image/png": "[encoded data removed]",
            "text/plain": [
              "<Figure size 432x288 with 1 Axes>"
            ]
          },
          "metadata": {
            "needs_background": "light"
          }
        },
        {
          "output_type": "display_data",
          "data": {
            "image/png": "[encoded data removed]",
            "text/plain": [
              "<Figure size 432x288 with 1 Axes>"
            ]
          },
          "metadata": {
            "needs_background": "light"
          }
        },
        {
          "output_type": "display_data",
          "data": {
            "image/png": "[encoded data removed]",
            "text/plain": [
              "<Figure size 432x288 with 1 Axes>"
            ]
          },
          "metadata": {
            "needs_background": "light"
          }
        },
        {
          "output_type": "display_data",
          "data": {
            "image/png": "[encoded data removed]",
            "text/plain": [
              "<Figure size 432x288 with 1 Axes>"
            ]
          },
          "metadata": {
            "needs_background": "light"
          }
        }
      ]
    },
    {
      "cell_type": "markdown",
      "metadata": {
        "id": "ilmLYqsVfH1f"
      },
      "source": [
        "## 1.1 - Create time"
      ]
    },
    {
      "cell_type": "code",
      "metadata": {
        "colab": {
          "base_uri": "https://localhost:8080/"
        },
        "id": "5zuHn3tEfNA5",
        "outputId": "d0cfad9f-5555-48f2-e5ee-7ae5fe4d6d0e"
      },
      "source": [
        "from datetime import datetime\n",
        "\n",
        "mean_create_time = datetime.fromtimestamp(round(df_unique_videos['createTime'].mean()))\n",
        "min_create_time = datetime.fromtimestamp(df_unique_videos['createTime'].min())\n",
        "max_create_time = datetime.fromtimestamp(df_unique_videos['createTime'].max())\n",
        "print(\"earliest create time: \", min_create_time)\n",
        "print(\"mean create time: \", mean_create_time)\n",
        "print(\"lastest create time: \", max_create_time)"
      ],
      "execution_count": 8,
      "outputs": [
        {
          "output_type": "stream",
          "name": "stdout",
          "text": [
            "earliest create time:  2020-09-22 14:22:38\n",
            "mean create time:  2020-11-09 12:23:38\n",
            "lastest create time:  2020-12-21 03:18:36\n"
          ]
        }
      ]
    },
    {
      "cell_type": "code",
      "metadata": {
        "id": "7oVRxUFfZUC4"
      },
      "source": [
        "dt_create_time = list(map(lambda x: datetime.fromtimestamp(x), df_unique_videos['createTime'].values))"
      ],
      "execution_count": 19,
      "outputs": []
    },
    {
      "cell_type": "code",
      "metadata": {
        "colab": {
          "base_uri": "https://localhost:8080/"
        },
        "id": "5_titQxQZ-dZ",
        "outputId": "0d30af69-230b-4f0d-a3ff-b8b6bce3aa79"
      },
      "source": [
        "print(dt_create_time[0])"
      ],
      "execution_count": 21,
      "outputs": [
        {
          "output_type": "stream",
          "name": "stdout",
          "text": [
            "2020-12-17 14:15:17\n"
          ]
        }
      ]
    },
    {
      "cell_type": "markdown",
      "metadata": {
        "id": "A8nODSK7nGLT"
      },
      "source": [
        "## 1.1.1 Create time versus likes"
      ]
    },
    {
      "cell_type": "code",
      "metadata": {
        "id": "Hn197KdbnL4g"
      },
      "source": [
        "df_videos_users_focus = df_unique_videos[df_unique_videos['diggCount'] <= 50000]\n",
        "dt_focus_create_time = list(map(lambda x: datetime.fromtimestamp(x), df_videos_users_focus['createTime'].values))"
      ],
      "execution_count": 23,
      "outputs": []
    },
    {
      "cell_type": "code",
      "metadata": {
        "colab": {
          "base_uri": "https://localhost:8080/",
          "height": 282
        },
        "id": "n-q_i81Kby1G",
        "outputId": "d60462d8-7104-48b7-d3b1-28e074840e75"
      },
      "source": [
        "plt.scatter(dt_focus_create_time , df_videos_users_focus['diggCount'], alpha=0.5)"
      ],
      "execution_count": 24,
      "outputs": [
        {
          "output_type": "execute_result",
          "data": {
            "text/plain": [
              "<matplotlib.collections.PathCollection at 0x7fc7bae5ee10>"
            ]
          },
          "metadata": {},
          "execution_count": 24
        },
        {
          "output_type": "display_data",
          "data": {
            "image/png": "[encoded data removed]",
            "text/plain": [
              "<Figure size 432x288 with 1 Axes>"
            ]
          },
          "metadata": {
            "needs_background": "light"
          }
        }
      ]
    },
    {
      "cell_type": "code",
      "metadata": {
        "colab": {
          "base_uri": "https://localhost:8080/"
        },
        "id": "_K-nNwYUdoDp",
        "outputId": "4decbe66-23b1-46df-85e9-31b6283bee1b"
      },
      "source": [
        "df_videos_users_focus.loc[:, 'dt_create_time'] = dt_focus_create_time"
      ],
      "execution_count": 26,
      "outputs": [
        {
          "output_type": "stream",
          "name": "stderr",
          "text": [
            "/usr/local/lib/python3.7/dist-packages/pandas/core/indexing.py:1743: SettingWithCopyWarning:\n",
            "\n",
            "\n",
            "A value is trying to be set on a copy of a slice from a DataFrame.\n",
            "Try using .loc[row_indexer,col_indexer] = value instead\n",
            "\n",
            "See the caveats in the documentation: https://pandas.pydata.org/pandas-docs/stable/user_guide/indexing.html#returning-a-view-versus-a-copy\n",
            "\n"
          ]
        }
      ]
    },
    {
      "cell_type": "code",
      "metadata": {
        "id": "lmwnnuC1cSt3"
      },
      "source": [
        "import datetime\n",
        "start_date = datetime.date(2020, 9, 22)\n",
        "end_date = datetime.date(2020, 12, 21)\n",
        "delta = datetime.timedelta(days=1)\n",
        "data = []\n",
        "while start_date <= end_date:\n",
        "    condition = (pd.to_datetime(start_date) <= df_videos_users_focus['dt_create_time']) & (df_videos_users_focus['dt_create_time'] <= pd.to_datetime(start_date + delta))\n",
        "    data.append([start_date, df_videos_users_focus[condition]['diggCount'].mean()])\n",
        "    start_date += delta"
      ],
      "execution_count": 37,
      "outputs": []
    },
    {
      "cell_type": "markdown",
      "metadata": {
        "id": "EoHCBQOSfY6d"
      },
      "source": [
        "## 1.2 - Deep Dive into likes and comments"
      ]
    },
    {
      "cell_type": "code",
      "metadata": {
        "colab": {
          "base_uri": "https://localhost:8080/"
        },
        "id": "AxukjDpZf6gh",
        "outputId": "a785bda6-0f48-45c5-bfd3-017be0bf15c3"
      },
      "source": [
        "(pd.to_datetime(start_date) <= df_videos_users_focus['dt_create_time']) & (df_videos_users_focus['dt_create_time'] <= pd.to_datetime(start_date + delta))"
      ],
      "execution_count": 36,
      "outputs": [
        {
          "output_type": "execute_result",
          "data": {
            "text/plain": [
              "0      False\n",
              "3      False\n",
              "4      False\n",
              "6      False\n",
              "7      False\n",
              "       ...  \n",
              "994    False\n",
              "995    False\n",
              "996    False\n",
              "997    False\n",
              "998    False\n",
              "Name: dt_create_time, Length: 859, dtype: bool"
            ]
          },
          "metadata": {},
          "execution_count": 36
        }
      ]
    },
    {
      "cell_type": "code",
      "metadata": {
        "colab": {
          "base_uri": "https://localhost:8080/",
          "height": 69
        },
        "id": "1u9qddCEgUfW",
        "outputId": "b5ad89b7-0876-4fc9-b622-a20cc81338ea"
      },
      "source": [
        "df_videos_users_focus[condition]"
      ],
      "execution_count": 39,
      "outputs": [
        {
          "output_type": "execute_result",
          "data": {
            "text/html": [
              "<div>\n",
              "<style scoped>\n",
              "    .dataframe tbody tr th:only-of-type {\n",
              "        vertical-align: middle;\n",
              "    }\n",
              "\n",
              "    .dataframe tbody tr th {\n",
              "        vertical-align: top;\n",
              "    }\n",
              "\n",
              "    .dataframe thead th {\n",
              "        text-align: right;\n",
              "    }\n",
              "</style>\n",
              "<table border=\"1\" class=\"dataframe\">\n",
              "  <thead>\n",
              "    <tr style=\"text-align: right;\">\n",
              "      <th></th>\n",
              "      <th>authorMeta.avatar</th>\n",
              "      <th>authorMeta.id</th>\n",
              "      <th>authorMeta.name</th>\n",
              "      <th>authorMeta.nickName</th>\n",
              "      <th>authorMeta.secUid</th>\n",
              "      <th>authorMeta.signature</th>\n",
              "      <th>authorMeta.verified</th>\n",
              "      <th>commentCount</th>\n",
              "      <th>cover.default</th>\n",
              "      <th>cover.dynamic</th>\n",
              "      <th>cover.origin</th>\n",
              "      <th>createTime</th>\n",
              "      <th>diggCount</th>\n",
              "      <th>downloaded</th>\n",
              "      <th>hashtag.cover</th>\n",
              "      <th>hashtag.id</th>\n",
              "      <th>hashtag.name</th>\n",
              "      <th>hashtag.title</th>\n",
              "      <th>id</th>\n",
              "      <th>mentions</th>\n",
              "      <th>musicMeta.coverLarge</th>\n",
              "      <th>musicMeta.coverMedium</th>\n",
              "      <th>musicMeta.coverThumb</th>\n",
              "      <th>musicMeta.musicAuthor</th>\n",
              "      <th>musicMeta.musicId</th>\n",
              "      <th>musicMeta.musicName</th>\n",
              "      <th>musicMeta.musicOriginal</th>\n",
              "      <th>musicMeta.playUrl</th>\n",
              "      <th>playCount</th>\n",
              "      <th>shareCount</th>\n",
              "      <th>text</th>\n",
              "      <th>videoMeta.duration</th>\n",
              "      <th>videoMeta.height</th>\n",
              "      <th>videoMeta.width</th>\n",
              "      <th>videoUrl</th>\n",
              "      <th>videoUrlNoWaterMark</th>\n",
              "      <th>webVideoUrl</th>\n",
              "      <th>dt_create_time</th>\n",
              "    </tr>\n",
              "  </thead>\n",
              "  <tbody>\n",
              "  </tbody>\n",
              "</table>\n",
              "</div>"
            ],
            "text/plain": [
              "Empty DataFrame\n",
              "Columns: [authorMeta.avatar, authorMeta.id, authorMeta.name, authorMeta.nickName, authorMeta.secUid, authorMeta.signature, authorMeta.verified, commentCount, cover.default, cover.dynamic, cover.origin, createTime, diggCount, downloaded, hashtag.cover, hashtag.id, hashtag.name, hashtag.title, id, mentions, musicMeta.coverLarge, musicMeta.coverMedium, musicMeta.coverThumb, musicMeta.musicAuthor, musicMeta.musicId, musicMeta.musicName, musicMeta.musicOriginal, musicMeta.playUrl, playCount, shareCount, text, videoMeta.duration, videoMeta.height, videoMeta.width, videoUrl, videoUrlNoWaterMark, webVideoUrl, dt_create_time]\n",
              "Index: []"
            ]
          },
          "metadata": {},
          "execution_count": 39
        }
      ]
    },
    {
      "cell_type": "code",
      "metadata": {
        "colab": {
          "base_uri": "https://localhost:8080/"
        },
        "id": "u3LQmtMnplFk",
        "outputId": "eb7d028f-27e0-431f-f456-fd3bf8e1bcc7"
      },
      "source": [
        "df_unique_videos['diggCount'].describe()"
      ],
      "execution_count": null,
      "outputs": [
        {
          "output_type": "execute_result",
          "data": {
            "text/plain": [
              "count    1.000000e+03\n",
              "mean     9.679788e+04\n",
              "std      1.043487e+06\n",
              "min      1.300000e+01\n",
              "25%      2.864500e+03\n",
              "50%      7.412500e+03\n",
              "75%      2.285000e+04\n",
              "max      3.100000e+07\n",
              "Name: diggCount, dtype: float64"
            ]
          },
          "metadata": {},
          "execution_count": 24
        }
      ]
    },
    {
      "cell_type": "code",
      "metadata": {
        "colab": {
          "base_uri": "https://localhost:8080/",
          "height": 1000
        },
        "id": "_bcv06ZffclL",
        "outputId": "97dd1550-faa6-48bb-dcdc-521e6e824fb0"
      },
      "source": [
        "# Set bucket ranges\n",
        "buckets = list(range(0,105000,5000))\n",
        "\n",
        "# Count videos with likes and comments per bucket range\n",
        "likes = df_unique_videos.groupby( my_cut( df_unique_videos['diggCount'], buckets, upper_infinite=True ) ).diggCount.count()\n",
        "comments = df_unique_videos.groupby( my_cut( df_unique_videos['commentCount'], buckets, upper_infinite=True ) ).diggCount.count()\n",
        "\n",
        "# Transform from series to dataframe with some small modifications\n",
        "likes = likes.rename('likes').to_frame().reset_index() \n",
        "comments = comments.rename('comments').to_frame().reset_index() \n",
        "\n",
        "# create subplots, two rows and 1 column each row\n",
        "fig = make_subplots(2,1,subplot_titles=(\"Distribution of Likes\", \"Distribution of Comments\"))\n",
        "\n",
        "# First plot\n",
        "fig.add_trace(\n",
        "    go.Bar(y = likes['diggCount'], \n",
        "           x = likes['likes'], \n",
        "           name=\"Likes\",\n",
        "           text = likes['likes'], \n",
        "           orientation='h',\n",
        "           texttemplate='%{text:.2s}', \n",
        "           textposition='outside', \n",
        "           marker_color='rgb(162, 210, 255)'\n",
        "    ),\n",
        "    row=1,col=1\n",
        ")\n",
        "\n",
        "# Second plot\n",
        "fig.add_trace(\n",
        "    go.Bar(y = comments['commentCount'], \n",
        "           x = comments['comments'], \n",
        "           name=\"Comments\",\n",
        "           text = comments['comments'], \n",
        "           orientation='h',\n",
        "           texttemplate='%{text:.2s}', \n",
        "           textposition='outside', \n",
        "           marker_color='rgb(205, 180, 219)'\n",
        "    ),\n",
        "    row=2,col=1\n",
        ")\n",
        "\n",
        "fig.update_layout(title_text=\"Multiple Subplots with Titles\",\n",
        "                  height=1200,\n",
        "                  template='plotly_white',\n",
        "                  margin=go.layout.Margin(\n",
        "                      l=130,r=5,b=5,t=100,pad=10\n",
        "                  ))\n",
        "\n",
        "fig.update_xaxes(title_text='Videos')\n",
        "fig.update_yaxes(title_text='Likes', col=1, row=1, automargin=False)\n",
        "fig.update_yaxes(title_text='Comments', col=1, row=2, automargin=False)\n",
        "\n",
        "fig.show(config={'displayModeBar': False})"
      ],
      "execution_count": null,
      "outputs": [
        {
          "output_type": "display_data",
          "data": {
            "text/html": [
              "<html>\n",
              "<head><meta charset=\"utf-8\" /></head>\n",
              "<body>\n",
              "    <div>\n",
              "            <script src=\"https://cdnjs.cloudflare.com/ajax/libs/mathjax/2.7.5/MathJax.js?config=TeX-AMS-MML_SVG\"></script><script type=\"text/javascript\">if (window.MathJax) {MathJax.Hub.Config({SVG: {font: \"STIX-Web\"}});}</script>\n",
              "                <script type=\"text/javascript\">window.PlotlyConfig = {MathJaxConfig: 'local'};</script>\n",
              "        <script src=\"https://cdn.plot.ly/plotly-latest.min.js\"></script>    \n",
              "            <div id=\"d9f51908-895a-4c60-9428-9f5843a0c010\" class=\"plotly-graph-div\" style=\"height:1200px; width:100%;\"></div>\n",
              "            <script type=\"text/javascript\">\n",
              "                \n",
              "                    window.PLOTLYENV=window.PLOTLYENV || {};\n",
              "                    \n",
              "                if (document.getElementById(\"d9f51908-895a-4c60-9428-9f5843a0c010\")) {\n",
              "                    Plotly.newPlot(\n",
              "                        'd9f51908-895a-4c60-9428-9f5843a0c010',\n",
              "                        [{\"marker\": {\"color\": \"rgb(162, 210, 255)\"}, \"name\": \"Likes\", \"orientation\": \"h\", \"text\": [388.0, 192.0, 96.0, 44.0, 47.0, 32.0, 22.0, 16.0, 10.0, 12.0, 5.0, 6.0, 6.0, 6.0, 10.0, 3.0, 5.0, 6.0, 2.0, 1.0, 91.0], \"textposition\": \"outside\", \"texttemplate\": \"%{text:.2s}\", \"type\": \"bar\", \"x\": [388, 192, 96, 44, 47, 32, 22, 16, 10, 12, 5, 6, 6, 6, 10, 3, 5, 6, 2, 1, 91], \"xaxis\": \"x\", \"y\": [\"0 - 5000\", \"5000 - 10000\", \"10000 - 15000\", \"15000 - 20000\", \"20000 - 25000\", \"25000 - 30000\", \"30000 - 35000\", \"35000 - 40000\", \"40000 - 45000\", \"45000 - 50000\", \"50000 - 55000\", \"55000 - 60000\", \"60000 - 65000\", \"65000 - 70000\", \"70000 - 75000\", \"75000 - 80000\", \"80000 - 85000\", \"85000 - 90000\", \"90000 - 95000\", \"95000 - 100000\", \"> 100000\"], \"yaxis\": \"y\"}, {\"marker\": {\"color\": \"rgb(205, 180, 219)\"}, \"name\": \"Comments\", \"orientation\": \"h\", \"text\": [967.0, 12.0, 6.0, 1.0, 1.0, 1.0, 1.0, 0.0, 0.0, 0.0, 0.0, 0.0, 1.0, 0.0, 0.0, 0.0, 0.0, 0.0, 0.0, 0.0, 1.0], \"textposition\": \"outside\", \"texttemplate\": \"%{text:.2s}\", \"type\": \"bar\", \"x\": [967, 12, 6, 1, 1, 1, 1, 0, 0, 0, 0, 0, 1, 0, 0, 0, 0, 0, 0, 0, 1], \"xaxis\": \"x2\", \"y\": [\"0 - 5000\", \"5000 - 10000\", \"10000 - 15000\", \"15000 - 20000\", \"20000 - 25000\", \"25000 - 30000\", \"30000 - 35000\", \"35000 - 40000\", \"40000 - 45000\", \"45000 - 50000\", \"50000 - 55000\", \"55000 - 60000\", \"60000 - 65000\", \"65000 - 70000\", \"70000 - 75000\", \"75000 - 80000\", \"80000 - 85000\", \"85000 - 90000\", \"90000 - 95000\", \"95000 - 100000\", \"> 100000\"], \"yaxis\": \"y2\"}],\n",
              "                        {\"annotations\": [{\"font\": {\"size\": 16}, \"showarrow\": false, \"text\": \"Distribution of Likes\", \"x\": 0.5, \"xanchor\": \"center\", \"xref\": \"paper\", \"y\": 1.0, \"yanchor\": \"bottom\", \"yref\": \"paper\"}, {\"font\": {\"size\": 16}, \"showarrow\": false, \"text\": \"Distribution of Comments\", \"x\": 0.5, \"xanchor\": \"center\", \"xref\": \"paper\", \"y\": 0.375, \"yanchor\": \"bottom\", \"yref\": \"paper\"}], \"height\": 1200, \"margin\": {\"b\": 5, \"l\": 130, \"pad\": 10, \"r\": 5, \"t\": 100}, \"template\": {\"data\": {\"bar\": [{\"error_x\": {\"color\": \"#2a3f5f\"}, \"error_y\": {\"color\": \"#2a3f5f\"}, \"marker\": {\"line\": {\"color\": \"white\", \"width\": 0.5}}, \"type\": \"bar\"}], \"barpolar\": [{\"marker\": {\"line\": {\"color\": \"white\", \"width\": 0.5}}, \"type\": \"barpolar\"}], \"carpet\": [{\"aaxis\": {\"endlinecolor\": \"#2a3f5f\", \"gridcolor\": \"#C8D4E3\", \"linecolor\": \"#C8D4E3\", \"minorgridcolor\": \"#C8D4E3\", \"startlinecolor\": \"#2a3f5f\"}, \"baxis\": {\"endlinecolor\": \"#2a3f5f\", \"gridcolor\": \"#C8D4E3\", \"linecolor\": \"#C8D4E3\", \"minorgridcolor\": \"#C8D4E3\", \"startlinecolor\": \"#2a3f5f\"}, \"type\": \"carpet\"}], \"choropleth\": [{\"colorbar\": {\"outlinewidth\": 0, \"ticks\": \"\"}, \"type\": \"choropleth\"}], \"contour\": [{\"colorbar\": {\"outlinewidth\": 0, \"ticks\": \"\"}, \"colorscale\": [[0.0, \"#0d0887\"], [0.1111111111111111, \"#46039f\"], [0.2222222222222222, \"#7201a8\"], [0.3333333333333333, \"#9c179e\"], [0.4444444444444444, \"#bd3786\"], [0.5555555555555556, \"#d8576b\"], [0.6666666666666666, \"#ed7953\"], [0.7777777777777778, \"#fb9f3a\"], [0.8888888888888888, \"#fdca26\"], [1.0, \"#f0f921\"]], \"type\": \"contour\"}], \"contourcarpet\": [{\"colorbar\": {\"outlinewidth\": 0, \"ticks\": \"\"}, \"type\": \"contourcarpet\"}], \"heatmap\": [{\"colorbar\": {\"outlinewidth\": 0, \"ticks\": \"\"}, \"colorscale\": [[0.0, \"#0d0887\"], [0.1111111111111111, \"#46039f\"], [0.2222222222222222, \"#7201a8\"], [0.3333333333333333, \"#9c179e\"], [0.4444444444444444, \"#bd3786\"], [0.5555555555555556, \"#d8576b\"], [0.6666666666666666, \"#ed7953\"], [0.7777777777777778, \"#fb9f3a\"], [0.8888888888888888, \"#fdca26\"], [1.0, \"#f0f921\"]], \"type\": \"heatmap\"}], \"heatmapgl\": [{\"colorbar\": {\"outlinewidth\": 0, \"ticks\": \"\"}, \"colorscale\": [[0.0, \"#0d0887\"], [0.1111111111111111, \"#46039f\"], [0.2222222222222222, \"#7201a8\"], [0.3333333333333333, \"#9c179e\"], [0.4444444444444444, \"#bd3786\"], [0.5555555555555556, \"#d8576b\"], [0.6666666666666666, \"#ed7953\"], [0.7777777777777778, \"#fb9f3a\"], [0.8888888888888888, \"#fdca26\"], [1.0, \"#f0f921\"]], \"type\": \"heatmapgl\"}], \"histogram\": [{\"marker\": {\"colorbar\": {\"outlinewidth\": 0, \"ticks\": \"\"}}, \"type\": \"histogram\"}], \"histogram2d\": [{\"colorbar\": {\"outlinewidth\": 0, \"ticks\": \"\"}, \"colorscale\": [[0.0, \"#0d0887\"], [0.1111111111111111, \"#46039f\"], [0.2222222222222222, \"#7201a8\"], [0.3333333333333333, \"#9c179e\"], [0.4444444444444444, \"#bd3786\"], [0.5555555555555556, \"#d8576b\"], [0.6666666666666666, \"#ed7953\"], [0.7777777777777778, \"#fb9f3a\"], [0.8888888888888888, \"#fdca26\"], [1.0, \"#f0f921\"]], \"type\": \"histogram2d\"}], \"histogram2dcontour\": [{\"colorbar\": {\"outlinewidth\": 0, \"ticks\": \"\"}, \"colorscale\": [[0.0, \"#0d0887\"], [0.1111111111111111, \"#46039f\"], [0.2222222222222222, \"#7201a8\"], [0.3333333333333333, \"#9c179e\"], [0.4444444444444444, \"#bd3786\"], [0.5555555555555556, \"#d8576b\"], [0.6666666666666666, \"#ed7953\"], [0.7777777777777778, \"#fb9f3a\"], [0.8888888888888888, \"#fdca26\"], [1.0, \"#f0f921\"]], \"type\": \"histogram2dcontour\"}], \"mesh3d\": [{\"colorbar\": {\"outlinewidth\": 0, \"ticks\": \"\"}, \"type\": \"mesh3d\"}], \"parcoords\": [{\"line\": {\"colorbar\": {\"outlinewidth\": 0, \"ticks\": \"\"}}, \"type\": \"parcoords\"}], \"pie\": [{\"automargin\": true, \"type\": \"pie\"}], \"scatter\": [{\"marker\": {\"colorbar\": {\"outlinewidth\": 0, \"ticks\": \"\"}}, \"type\": \"scatter\"}], \"scatter3d\": [{\"line\": {\"colorbar\": {\"outlinewidth\": 0, \"ticks\": \"\"}}, \"marker\": {\"colorbar\": {\"outlinewidth\": 0, \"ticks\": \"\"}}, \"type\": \"scatter3d\"}], \"scattercarpet\": [{\"marker\": {\"colorbar\": {\"outlinewidth\": 0, \"ticks\": \"\"}}, \"type\": \"scattercarpet\"}], \"scattergeo\": [{\"marker\": {\"colorbar\": {\"outlinewidth\": 0, \"ticks\": \"\"}}, \"type\": \"scattergeo\"}], \"scattergl\": [{\"marker\": {\"colorbar\": {\"outlinewidth\": 0, \"ticks\": \"\"}}, \"type\": \"scattergl\"}], \"scattermapbox\": [{\"marker\": {\"colorbar\": {\"outlinewidth\": 0, \"ticks\": \"\"}}, \"type\": \"scattermapbox\"}], \"scatterpolar\": [{\"marker\": {\"colorbar\": {\"outlinewidth\": 0, \"ticks\": \"\"}}, \"type\": \"scatterpolar\"}], \"scatterpolargl\": [{\"marker\": {\"colorbar\": {\"outlinewidth\": 0, \"ticks\": \"\"}}, \"type\": \"scatterpolargl\"}], \"scatterternary\": [{\"marker\": {\"colorbar\": {\"outlinewidth\": 0, \"ticks\": \"\"}}, \"type\": \"scatterternary\"}], \"surface\": [{\"colorbar\": {\"outlinewidth\": 0, \"ticks\": \"\"}, \"colorscale\": [[0.0, \"#0d0887\"], [0.1111111111111111, \"#46039f\"], [0.2222222222222222, \"#7201a8\"], [0.3333333333333333, \"#9c179e\"], [0.4444444444444444, \"#bd3786\"], [0.5555555555555556, \"#d8576b\"], [0.6666666666666666, \"#ed7953\"], [0.7777777777777778, \"#fb9f3a\"], [0.8888888888888888, \"#fdca26\"], [1.0, \"#f0f921\"]], \"type\": \"surface\"}], \"table\": [{\"cells\": {\"fill\": {\"color\": \"#EBF0F8\"}, \"line\": {\"color\": \"white\"}}, \"header\": {\"fill\": {\"color\": \"#C8D4E3\"}, \"line\": {\"color\": \"white\"}}, \"type\": \"table\"}]}, \"layout\": {\"annotationdefaults\": {\"arrowcolor\": \"#2a3f5f\", \"arrowhead\": 0, \"arrowwidth\": 1}, \"coloraxis\": {\"colorbar\": {\"outlinewidth\": 0, \"ticks\": \"\"}}, \"colorscale\": {\"diverging\": [[0, \"#8e0152\"], [0.1, \"#c51b7d\"], [0.2, \"#de77ae\"], [0.3, \"#f1b6da\"], [0.4, \"#fde0ef\"], [0.5, \"#f7f7f7\"], [0.6, \"#e6f5d0\"], [0.7, \"#b8e186\"], [0.8, \"#7fbc41\"], [0.9, \"#4d9221\"], [1, \"#276419\"]], \"sequential\": [[0.0, \"#0d0887\"], [0.1111111111111111, \"#46039f\"], [0.2222222222222222, \"#7201a8\"], [0.3333333333333333, \"#9c179e\"], [0.4444444444444444, \"#bd3786\"], [0.5555555555555556, \"#d8576b\"], [0.6666666666666666, \"#ed7953\"], [0.7777777777777778, \"#fb9f3a\"], [0.8888888888888888, \"#fdca26\"], [1.0, \"#f0f921\"]], \"sequentialminus\": [[0.0, \"#0d0887\"], [0.1111111111111111, \"#46039f\"], [0.2222222222222222, \"#7201a8\"], [0.3333333333333333, \"#9c179e\"], [0.4444444444444444, \"#bd3786\"], [0.5555555555555556, \"#d8576b\"], [0.6666666666666666, \"#ed7953\"], [0.7777777777777778, \"#fb9f3a\"], [0.8888888888888888, \"#fdca26\"], [1.0, \"#f0f921\"]]}, \"colorway\": [\"#636efa\", \"#EF553B\", \"#00cc96\", \"#ab63fa\", \"#FFA15A\", \"#19d3f3\", \"#FF6692\", \"#B6E880\", \"#FF97FF\", \"#FECB52\"], \"font\": {\"color\": \"#2a3f5f\"}, \"geo\": {\"bgcolor\": \"white\", \"lakecolor\": \"white\", \"landcolor\": \"white\", \"showlakes\": true, \"showland\": true, \"subunitcolor\": \"#C8D4E3\"}, \"hoverlabel\": {\"align\": \"left\"}, \"hovermode\": \"closest\", \"mapbox\": {\"style\": \"light\"}, \"paper_bgcolor\": \"white\", \"plot_bgcolor\": \"white\", \"polar\": {\"angularaxis\": {\"gridcolor\": \"#EBF0F8\", \"linecolor\": \"#EBF0F8\", \"ticks\": \"\"}, \"bgcolor\": \"white\", \"radialaxis\": {\"gridcolor\": \"#EBF0F8\", \"linecolor\": \"#EBF0F8\", \"ticks\": \"\"}}, \"scene\": {\"xaxis\": {\"backgroundcolor\": \"white\", \"gridcolor\": \"#DFE8F3\", \"gridwidth\": 2, \"linecolor\": \"#EBF0F8\", \"showbackground\": true, \"ticks\": \"\", \"zerolinecolor\": \"#EBF0F8\"}, \"yaxis\": {\"backgroundcolor\": \"white\", \"gridcolor\": \"#DFE8F3\", \"gridwidth\": 2, \"linecolor\": \"#EBF0F8\", \"showbackground\": true, \"ticks\": \"\", \"zerolinecolor\": \"#EBF0F8\"}, \"zaxis\": {\"backgroundcolor\": \"white\", \"gridcolor\": \"#DFE8F3\", \"gridwidth\": 2, \"linecolor\": \"#EBF0F8\", \"showbackground\": true, \"ticks\": \"\", \"zerolinecolor\": \"#EBF0F8\"}}, \"shapedefaults\": {\"line\": {\"color\": \"#2a3f5f\"}}, \"ternary\": {\"aaxis\": {\"gridcolor\": \"#DFE8F3\", \"linecolor\": \"#A2B1C6\", \"ticks\": \"\"}, \"baxis\": {\"gridcolor\": \"#DFE8F3\", \"linecolor\": \"#A2B1C6\", \"ticks\": \"\"}, \"bgcolor\": \"white\", \"caxis\": {\"gridcolor\": \"#DFE8F3\", \"linecolor\": \"#A2B1C6\", \"ticks\": \"\"}}, \"title\": {\"x\": 0.05}, \"xaxis\": {\"automargin\": true, \"gridcolor\": \"#EBF0F8\", \"linecolor\": \"#EBF0F8\", \"ticks\": \"\", \"title\": {\"standoff\": 15}, \"zerolinecolor\": \"#EBF0F8\", \"zerolinewidth\": 2}, \"yaxis\": {\"automargin\": true, \"gridcolor\": \"#EBF0F8\", \"linecolor\": \"#EBF0F8\", \"ticks\": \"\", \"title\": {\"standoff\": 15}, \"zerolinecolor\": \"#EBF0F8\", \"zerolinewidth\": 2}}}, \"title\": {\"text\": \"Multiple Subplots with Titles\"}, \"xaxis\": {\"anchor\": \"y\", \"domain\": [0.0, 1.0], \"title\": {\"text\": \"Videos\"}}, \"xaxis2\": {\"anchor\": \"y2\", \"domain\": [0.0, 1.0], \"title\": {\"text\": \"Videos\"}}, \"yaxis\": {\"anchor\": \"x\", \"automargin\": false, \"domain\": [0.625, 1.0], \"title\": {\"text\": \"Likes\"}}, \"yaxis2\": {\"anchor\": \"x2\", \"automargin\": false, \"domain\": [0.0, 0.375], \"title\": {\"text\": \"Comments\"}}},\n",
              "                        {\"displayModeBar\": false, \"responsive\": true}\n",
              "                    ).then(function(){\n",
              "                            \n",
              "var gd = document.getElementById('d9f51908-895a-4c60-9428-9f5843a0c010');\n",
              "var x = new MutationObserver(function (mutations, observer) {{\n",
              "        var display = window.getComputedStyle(gd).display;\n",
              "        if (!display || display === 'none') {{\n",
              "            console.log([gd, 'removed!']);\n",
              "            Plotly.purge(gd);\n",
              "            observer.disconnect();\n",
              "        }}\n",
              "}});\n",
              "\n",
              "// Listen for the removal of the full notebook cells\n",
              "var notebookContainer = gd.closest('#notebook-container');\n",
              "if (notebookContainer) {{\n",
              "    x.observe(notebookContainer, {childList: true});\n",
              "}}\n",
              "\n",
              "// Listen for the clearing of the current output cell\n",
              "var outputEl = gd.closest('.output');\n",
              "if (outputEl) {{\n",
              "    x.observe(outputEl, {childList: true});\n",
              "}}\n",
              "\n",
              "                        })\n",
              "                };\n",
              "                \n",
              "            </script>\n",
              "        </div>\n",
              "</body>\n",
              "</html>"
            ]
          },
          "metadata": {}
        }
      ]
    },
    {
      "cell_type": "markdown",
      "metadata": {
        "id": "mwq-95K4f8dB"
      },
      "source": [
        "insight:\n",
        "  1. most videos have likes and comments below 50000\n",
        "  2. most videos have comments lie in the range 0 - 5000"
      ]
    },
    {
      "cell_type": "code",
      "metadata": {
        "colab": {
          "base_uri": "https://localhost:8080/",
          "height": 610
        },
        "id": "64RwBPz1fygh",
        "outputId": "cd2d030a-9cde-4d7f-9038-a4fce3143220"
      },
      "source": [
        "# Focus on dataset from 0 till 50.000 likes\n",
        "df_videos_users_focus = df_unique_videos[df_unique_videos['diggCount'] <= 50000]\n",
        "\n",
        "# Create a scatter plot with a trendline\n",
        "fig = px.scatter(df_videos_users_focus, trendline=\"ols\",\n",
        "                 x=\"diggCount\", \n",
        "                 y=\"commentCount\",\n",
        "                 labels={\n",
        "                     \"diggCount\": \"Likes\",\n",
        "                     \"commentCount\": \"Comments\"\n",
        "                 },\n",
        "                 log_y=True,\n",
        "                 trendline_color_override=\"#ff7096\", \n",
        "                 template='plotly_white')\n",
        "\n",
        "fig.update_traces(marker=dict(\n",
        "                     color='#4cc9f0',\n",
        "                     opacity=0.6,\n",
        "                 ))\n",
        "fig.show()"
      ],
      "execution_count": null,
      "outputs": [
        {
          "output_type": "stream",
          "name": "stderr",
          "text": [
            "/usr/local/lib/python3.7/dist-packages/statsmodels/tools/_testing.py:19: FutureWarning:\n",
            "\n",
            "pandas.util.testing is deprecated. Use the functions in the public API at pandas.testing instead.\n",
            "\n"
          ]
        },
        {
          "output_type": "display_data",
          "data": {
            "text/html": [
              "<html>\n",
              "<head><meta charset=\"utf-8\" /></head>\n",
              "<body>\n",
              "    <div>\n",
              "            <script src=\"https://cdnjs.cloudflare.com/ajax/libs/mathjax/2.7.5/MathJax.js?config=TeX-AMS-MML_SVG\"></script><script type=\"text/javascript\">if (window.MathJax) {MathJax.Hub.Config({SVG: {font: \"STIX-Web\"}});}</script>\n",
              "                <script type=\"text/javascript\">window.PlotlyConfig = {MathJaxConfig: 'local'};</script>\n",
              "        <script src=\"https://cdn.plot.ly/plotly-latest.min.js\"></script>    \n",
              "            <div id=\"105cb7b4-489c-4850-8d56-ba8d7f0abcfc\" class=\"plotly-graph-div\" style=\"height:525px; width:100%;\"></div>\n",
              "            <script type=\"text/javascript\">\n",
              "                \n",
              "                    window.PLOTLYENV=window.PLOTLYENV || {};\n",
              "                    \n",
              "                if (document.getElementById(\"105cb7b4-489c-4850-8d56-ba8d7f0abcfc\")) {\n",
              "                    Plotly.newPlot(\n",
              "                        '105cb7b4-489c-4850-8d56-ba8d7f0abcfc',\n",
              "                        [{\"hoverlabel\": {\"namelength\": 0}, \"hovertemplate\": \"Likes=%{x}<br>Comments=%{y}\", \"legendgroup\": \"\", \"marker\": {\"color\": \"#4cc9f0\", \"opacity\": 0.6, \"symbol\": \"circle\"}, \"mode\": \"markers\", \"name\": \"\", \"showlegend\": false, \"type\": \"scatter\", \"x\": [3710, 12900, 8805, 227, 4326, 734, 3874, 2080, 3275, 6268, 6629, 14500, 23900, 2501, 6126, 10700, 1086, 720, 2053, 1251, 389, 4734, 11300, 11800, 458, 1742, 274, 7161, 368, 29200, 1334, 3997, 2405, 9522, 11500, 143, 6153, 831, 25000, 1688, 15200, 8606, 6025, 26300, 2766, 7868, 8204, 6454, 899, 5865, 5805, 5480, 4673, 1472, 9247, 8990, 6130, 5898, 24000, 7508, 9099, 25700, 4029, 13000, 11200, 20700, 10600, 13400, 23000, 712, 5449, 16800, 2961, 38700, 5328, 154, 1525, 1546, 198, 15900, 15800, 26000, 29700, 8581, 447, 7070, 4662, 42600, 1242, 2380, 1188, 4896, 5626, 1338, 2566, 441, 5161, 10400, 11600, 24300, 7446, 17200, 2105, 4851, 4851, 277, 1816, 26200, 2349, 8516, 1833, 14700, 6529, 8960, 46200, 1859, 11500, 14600, 1829, 4929, 4171, 4220, 2925, 2598, 5858, 27700, 16600, 4634, 2223, 4147, 1425, 6842, 4568, 4012, 1791, 4597, 8691, 20100, 3186, 3755, 41000, 2475, 1763, 1754, 1567, 1339, 393, 32100, 21300, 1086, 7700, 7001, 1869, 27700, 12600, 613, 643, 12300, 14700, 29000, 2264, 6274, 7721, 40400, 4165, 561, 2685, 4435, 391, 9782, 1651, 1269, 11700, 5209, 3824, 17600, 3412, 3435, 9773, 3118, 3077, 833, 5845, 5791, 4909, 8283, 2809, 1714, 11000, 20300, 18800, 1957, 19700, 14700, 6144, 801, 13700, 6111, 8080, 9007, 4304, 6691, 33800, 20800, 2247, 5013, 3372, 1805, 5398, 8860, 1723, 1783, 15900, 10600, 886, 6403, 46500, 17600, 38200, 3414, 8093, 3657, 5875, 12100, 25900, 31200, 5753, 1842, 3836, 1723, 41900, 5473, 20000, 19600, 9504, 3347, 2409, 13600, 779, 3434, 20500, 14800, 3123, 48100, 732, 9025, 36400, 7367, 1587, 22100, 11900, 3808, 1339, 3218, 8133, 31900, 5846, 4411, 36300, 4751, 9233, 3161, 6940, 4967, 16700, 20500, 3169, 1116, 2212, 1018, 11700, 1915, 34700, 1466, 5046, 3329, 21400, 5858, 507, 7042, 10500, 124, 5688, 5483, 247, 1795, 44200, 3564, 1176, 12400, 4449, 23400, 1933, 4710, 20900, 36500, 3697, 802, 12700, 1657, 4775, 5606, 6217, 21600, 20600, 8082, 25800, 988, 1236, 2243, 24200, 34300, 4625, 30500, 3810, 7657, 4271, 5057, 9902, 4911, 25200, 4075, 14400, 22400, 2883, 3903, 7748, 11100, 3376, 41200, 6013, 4436, 10300, 25200, 24700, 24500, 1051, 16100, 22400, 33000, 2137, 13200, 9048, 6447, 17400, 3450, 6289, 4778, 5415, 15000, 1415, 2485, 3932, 5804, 14000, 6643, 1055, 19900, 5186, 13100, 250, 3504, 11200, 6270, 712, 1222, 1689, 3380, 2488, 678, 6063, 810, 6103, 2079, 5047, 8146, 3725, 6127, 11100, 17100, 46500, 7575, 7996, 41500, 2171, 8971, 428, 30400, 498, 2231, 2408, 4937, 13500, 4286, 12800, 15800, 15400, 1386, 1707, 2036, 7076, 288, 26900, 2322, 13800, 3230, 2008, 16800, 21600, 2083, 32000, 8639, 5494, 689, 8819, 6199, 2497, 49400, 1105, 3119, 1325, 11400, 5887, 40600, 27900, 17400, 26400, 4620, 3337, 7191, 3965, 8135, 1590, 21300, 206, 142, 7742, 26600, 5594, 4593, 11700, 499, 23500, 1693, 12000, 4774, 1744, 29900, 15000, 12700, 1396, 5979, 2973, 2802, 8013, 23700, 4703, 8232, 7222, 1112, 12600, 21700, 30700, 16000, 1993, 16400, 379, 9085, 7986, 1763, 1374, 5246, 9129, 6319, 9073, 34100, 3200, 39200, 26700, 307, 8839, 2906, 8348, 3644, 12200, 7045, 6834, 2384, 1397, 12400, 19600, 1535, 2520, 6276, 937, 28800, 16700, 17100, 14400, 22800, 1806, 4239, 29500, 2190, 7940, 4074, 7216, 1778, 1401, 7281, 8851, 1016, 13100, 3355, 16400, 1650, 3181, 2940, 4124, 13300, 1868, 22000, 1335, 2395, 10600, 1579, 12100, 7268, 18900, 23200, 22500, 3139, 15700, 34900, 4194, 46500, 5534, 2397, 22200, 8161, 2308, 23200, 9136, 21800, 2914, 575, 4823, 9030, 1671, 8302, 580, 3055, 32200, 1504, 1744, 7064, 1770, 572, 515, 15700, 3402, 46900, 20200, 657, 2704, 1269, 5612, 2471, 2163, 6931, 2125, 24000, 13500, 21200, 2287, 30000, 39000, 5023, 37000, 15000, 25100, 6972, 3412, 4262, 7187, 13000, 2187, 4310, 1411, 1257, 8501, 2031, 2489, 1443, 13500, 3067, 5715, 7436, 5559, 28000, 48700, 4141, 6015, 11900, 14900, 15400, 2445, 8243, 5021, 12300, 16700, 28100, 12800, 40900, 7407, 2266, 4739, 35600, 43400, 33000, 48300, 12000, 2698, 3373, 1090, 9950, 2992, 2232, 8284, 5814, 10000, 11300, 2428, 893, 3854, 3260, 168, 2746, 5715, 8831, 13, 570, 36100, 2462, 11500, 36700, 12600, 262, 10200, 3307, 4193, 700, 10900, 2111, 1475, 1870, 19000, 2031, 34500, 890, 4221, 27400, 5124, 7418, 13400, 20300, 7326, 7207, 6858, 2018, 5134, 149, 1593, 9588, 11900, 1086, 23200, 9254, 13800, 738, 1861, 6682, 1194, 3576, 6239, 1882, 11800, 12600, 208, 3066, 1620, 5479, 21800, 37100, 46100, 20500, 2029, 28400, 8042, 1091, 22, 4045, 7226, 31100, 10400, 1283, 3719, 3090, 3386, 6729, 12600, 581, 7320, 23900, 5574, 28500, 9570, 14600, 837, 2129, 1319, 1428, 9469, 1493, 646, 14600, 11700, 93, 587, 3142, 14400, 9021, 3919, 3860, 37200, 1885, 16400, 3257, 1371, 5320, 1515, 2157, 17000, 30600, 9881, 6667, 4208, 7961, 3440, 3205, 13800, 29900, 14100, 30200, 45900, 4053, 4218, 31100, 1373, 4024, 1125, 4854, 7270, 826, 617, 640, 6289, 15500, 35400, 513, 11000, 19000, 3832, 1698, 4386, 9588, 12100, 1089, 19000, 32500, 9303, 798, 1246, 19600, 1106, 9387, 12400, 4947, 7993, 5624, 20400, 5812, 5611, 4736, 15100, 12600, 2584, 33400, 11400, 17800, 2315, 23000, 4945, 3573, 11100, 2021, 5207, 4328, 47300, 37900, 2233, 12800, 18900, 2444, 971, 9280, 3603, 20500, 9490, 3080, 1846, 36500, 2932, 12700, 1620, 937, 19800, 3542, 9403, 499, 22500, 1759, 4053, 5508, 586, 28000, 12300, 5325, 3324, 1794, 6101, 1100, 7207, 9288, 13600, 9630, 12900, 1287, 651, 3716, 2164, 2098, 25100, 5500, 218, 13300, 12200, 26600, 10000], \"xaxis\": \"x\", \"y\": [68, 143, 52, 4, 354, 54, 94, 19, 159, 68, 1166, 267, 181, 44, 188, 209, 29, 15, 42, 27, 19, 306, 127, 156, 8, 86, 3, 80, 13, 656, 23, 23, 48, 273, 212, 4, 36, 37, 659, 13, 126, 147, 217, 315, 69, 87, 297, 107, 88, 257, 110, 26, 12, 39, 60, 380, 111, 31, 264, 17, 124, 414, 95, 52, 213, 86, 195, 469, 186, 24, 131, 150, 38, 408, 106, 2, 93, 38, 4, 176, 81, 448, 226, 62, 75, 222, 64, 742, 104, 73, 8, 257, 48, 13, 96, 7, 51, 747, 27, 97, 327, 80, 41, 122, 22, 5, 66, 469, 20, 70, 87, 1112, 30, 562, 406, 55, 388, 344, 371, 505, 31, 44, 120, 66, 98, 517, 76, 1, 12, 1756, 31, 184, 91, 93, 36, 207, 151, 53, 24, 55, 195, 11, 12, 14, 44, 26, 52, 301, 603, 36, 129, 35, 5, 236, 173, 54, 61, 249, 221, 436, 60, 173, 143, 763, 134, 1090, 48, 64, 10, 144, 37, 29, 77, 169, 107, 251, 36, 30, 105, 406, 42, 6, 112, 511, 886, 119, 20, 141, 40, 625, 219, 46, 539, 143, 25, 34, 75, 207, 178, 107, 47, 112, 473, 252, 60, 51, 56, 57, 40, 25, 79, 4, 77, 161, 87, 171, 1035, 454, 525, 38, 65, 14, 203, 77, 579, 170, 568, 87, 404, 68, 152, 41, 466, 140, 112, 0, 76, 94, 11, 82, 243, 125, 150, 460, 1206, 67, 370, 387, 30, 179, 91, 183, 43, 172, 80, 518, 56, 35, 1099, 32, 156, 81, 81, 46, 504, 61, 42, 123, 147, 13, 94, 10, 348, 23, 59, 36, 180, 81, 23, 240, 132, 5, 88, 100, 0, 78, 416, 71, 35, 131, 201, 331, 28, 52, 230, 315, 37, 33, 980, 143, 265, 30, 228, 73, 87, 568, 217, 14, 0, 36, 428, 183, 131, 444, 706, 515, 17, 155, 151, 29, 984, 22, 77, 200, 73, 65, 215, 191, 13, 790, 102, 98, 532, 569, 640, 231, 218, 318, 195, 226, 216, 58, 52, 147, 66, 14, 66, 209, 269, 689, 46, 23, 71, 721, 159, 138, 4, 220, 20, 110, 1, 122, 370, 226, 4, 25, 46, 103, 39, 329, 838, 8, 438, 101, 61, 100, 26, 111, 145, 241, 124, 93, 29, 368, 12, 271, 4, 60, 329, 18, 148, 25, 564, 67, 289, 233, 26, 75, 39, 16, 117, 16, 478, 45, 85, 114, 678, 121, 376, 19, 1600, 459, 213, 36, 341, 288, 28, 123, 85, 9, 117, 86, 29, 696, 535, 236, 977, 14, 48, 181, 75, 250, 34, 513, 7, 12, 92, 319, 183, 93, 43, 12, 1238, 168, 64, 255, 12, 462, 276, 242, 10, 94, 118, 50, 98, 155, 36, 35, 287, 107, 252, 78, 827, 139, 34, 106, 192, 118, 165, 68, 29, 30, 231, 91, 130, 204, 36, 250, 356, 5, 436, 49, 26, 19, 195, 232, 76, 60, 297, 702, 142, 96, 43, 50, 26, 181, 174, 321, 295, 297, 7, 206, 841, 74, 91, 78, 181, 55, 5, 175, 334, 31, 1191, 28, 520, 37, 16, 52, 62, 569, 263, 900, 32, 38, 101, 13, 161, 100, 740, 2104, 262, 135, 465, 6423, 73, 902, 38, 37, 1006, 131, 97, 102, 43, 80, 19, 8, 39, 239, 62, 84, 0, 54, 2186, 65, 290, 102, 29, 38, 18, 142, 26, 489, 333, 11, 48, 10, 148, 10, 22, 134, 38, 134, 115, 301, 63, 780, 200, 75, 67, 50, 319, 64, 128, 354, 160, 865, 27, 200, 27, 4, 60, 84, 29, 52, 168, 78, 114, 68, 41, 378, 970, 140, 64, 52, 33, 372, 183, 315, 549, 207, 724, 488, 520, 417, 41, 25, 56, 419, 702, 156, 1252, 942, 185, 121, 50, 52, 27, 27, 247, 390, 112, 231, 33, 18, 91, 31, 14, 58, 73, 238, 0, 3, 1108, 18, 709, 7568, 133, 13, 297, 78, 13, 68, 163, 37, 0, 60, 801, 59, 77, 2, 77, 475, 69, 108, 70, 474, 141, 119, 169, 2, 12, 42, 54, 75, 21, 7, 124, 22, 142, 19, 4, 34, 8, 40, 89, 24, 476, 158, 3, 171, 25, 95, 170, 533, 199, 256, 27, 117, 208, 15, 2, 224, 96, 880, 126, 116, 80, 89, 36, 29, 215, 8, 424, 171, 538, 363, 83, 92, 13, 80, 14, 22, 304, 38, 27, 232, 157, 2, 19, 160, 77, 100, 66, 68, 1280, 42, 286, 13, 89, 50, 17, 24, 78, 248, 203, 35, 244, 77, 7, 60, 284, 278, 182, 79, 713, 60, 90, 833, 10, 108, 16, 35, 221, 5, 36, 15, 318, 214, 1152, 11, 117, 42, 70, 5, 68, 119, 119, 6, 146, 730, 861, 16, 65, 150, 80, 161, 313, 110, 358, 250, 256, 86, 184, 392, 99, 33, 150, 173, 294, 281, 31, 103, 14, 91, 491, 89, 455, 49, 528, 268, 16, 285, 77, 18, 11, 53, 68, 527, 134, 32, 53, 994, 91, 602, 94, 12, 271, 39, 1049, 12, 354, 7, 88, 135, 8, 668, 141, 58, 115, 15, 184, 63, 59, 93, 148, 65, 75, 55, 42, 47, 75, 70, 657, 106, 18, 111, 321, 668, 274], \"yaxis\": \"y\"}, {\"hoverlabel\": {\"namelength\": 0}, \"hovertemplate\": \"<b>OLS trendline</b><br>commentCount = 0.016893 * diggCount + 40.731001<br>R<sup>2</sup>=0.181339<br><br>Likes=%{x}<br>Comments=%{y} <b>(trend)</b>\", \"legendgroup\": \"\", \"line\": {\"color\": \"#ff7096\"}, \"marker\": {\"color\": \"#4cc9f0\", \"opacity\": 0.6, \"symbol\": \"circle\"}, \"mode\": \"lines\", \"name\": \"\", \"showlegend\": false, \"type\": \"scatter\", \"x\": [13, 22, 93, 124, 142, 143, 149, 154, 168, 198, 206, 208, 218, 227, 247, 250, 262, 274, 277, 288, 307, 368, 379, 389, 391, 393, 428, 441, 447, 458, 498, 499, 499, 507, 513, 515, 561, 570, 572, 575, 580, 581, 586, 587, 613, 617, 640, 643, 646, 651, 657, 678, 689, 700, 712, 712, 720, 732, 734, 738, 779, 798, 801, 802, 810, 826, 831, 833, 837, 886, 890, 893, 899, 937, 937, 971, 988, 1016, 1018, 1051, 1055, 1086, 1086, 1086, 1089, 1090, 1091, 1100, 1105, 1106, 1112, 1116, 1125, 1176, 1188, 1194, 1222, 1236, 1242, 1246, 1251, 1257, 1269, 1269, 1283, 1287, 1319, 1325, 1334, 1335, 1338, 1339, 1339, 1371, 1373, 1374, 1386, 1396, 1397, 1401, 1411, 1415, 1425, 1428, 1443, 1466, 1472, 1475, 1493, 1504, 1515, 1525, 1535, 1546, 1567, 1579, 1587, 1590, 1593, 1620, 1620, 1650, 1651, 1657, 1671, 1688, 1689, 1693, 1698, 1707, 1714, 1723, 1723, 1742, 1744, 1744, 1754, 1759, 1763, 1763, 1770, 1778, 1783, 1791, 1794, 1795, 1805, 1806, 1816, 1829, 1833, 1842, 1846, 1859, 1861, 1868, 1869, 1870, 1882, 1885, 1915, 1933, 1957, 1993, 2008, 2018, 2021, 2029, 2031, 2031, 2036, 2053, 2079, 2080, 2083, 2098, 2105, 2111, 2125, 2129, 2137, 2157, 2163, 2164, 2171, 2187, 2190, 2212, 2223, 2231, 2232, 2233, 2243, 2247, 2264, 2266, 2287, 2308, 2315, 2322, 2349, 2380, 2384, 2395, 2397, 2405, 2408, 2409, 2428, 2444, 2445, 2462, 2471, 2475, 2485, 2488, 2489, 2497, 2501, 2520, 2566, 2584, 2598, 2685, 2698, 2704, 2746, 2766, 2802, 2809, 2883, 2906, 2914, 2925, 2932, 2940, 2961, 2973, 2992, 3055, 3066, 3067, 3077, 3080, 3090, 3118, 3119, 3123, 3139, 3142, 3161, 3169, 3181, 3186, 3200, 3205, 3218, 3230, 3257, 3260, 3275, 3307, 3324, 3329, 3337, 3347, 3355, 3372, 3373, 3376, 3380, 3386, 3402, 3412, 3412, 3414, 3434, 3435, 3440, 3450, 3504, 3542, 3564, 3573, 3576, 3603, 3644, 3657, 3697, 3710, 3716, 3719, 3725, 3755, 3808, 3810, 3824, 3832, 3836, 3854, 3860, 3874, 3903, 3919, 3932, 3965, 3997, 4012, 4024, 4029, 4045, 4053, 4053, 4074, 4075, 4124, 4141, 4147, 4165, 4171, 4193, 4194, 4208, 4218, 4220, 4221, 4239, 4262, 4271, 4286, 4304, 4310, 4326, 4328, 4386, 4411, 4435, 4436, 4449, 4568, 4593, 4597, 4620, 4625, 4634, 4662, 4673, 4703, 4710, 4734, 4736, 4739, 4751, 4774, 4775, 4778, 4823, 4851, 4851, 4854, 4896, 4909, 4911, 4929, 4937, 4945, 4947, 4967, 5013, 5021, 5023, 5046, 5047, 5057, 5124, 5134, 5161, 5186, 5207, 5209, 5246, 5320, 5325, 5328, 5398, 5415, 5449, 5473, 5479, 5480, 5483, 5494, 5500, 5508, 5534, 5559, 5574, 5594, 5606, 5611, 5612, 5624, 5626, 5688, 5715, 5715, 5753, 5791, 5804, 5805, 5812, 5814, 5845, 5846, 5858, 5858, 5865, 5875, 5887, 5898, 5979, 6013, 6015, 6025, 6063, 6101, 6103, 6111, 6126, 6127, 6130, 6144, 6153, 6199, 6217, 6239, 6268, 6270, 6274, 6276, 6289, 6289, 6319, 6403, 6447, 6454, 6529, 6629, 6643, 6667, 6682, 6691, 6729, 6834, 6842, 6858, 6931, 6940, 6972, 7001, 7042, 7045, 7064, 7070, 7076, 7161, 7187, 7191, 7207, 7207, 7216, 7222, 7226, 7268, 7270, 7281, 7320, 7326, 7367, 7407, 7418, 7436, 7446, 7508, 7575, 7657, 7700, 7721, 7742, 7748, 7868, 7940, 7961, 7986, 7993, 7996, 8013, 8042, 8080, 8082, 8093, 8133, 8135, 8146, 8161, 8204, 8232, 8243, 8283, 8284, 8302, 8348, 8501, 8516, 8581, 8606, 8639, 8691, 8805, 8819, 8831, 8839, 8851, 8860, 8960, 8971, 8990, 9007, 9021, 9025, 9030, 9048, 9073, 9085, 9099, 9129, 9136, 9233, 9247, 9254, 9280, 9288, 9303, 9387, 9403, 9469, 9490, 9504, 9522, 9570, 9588, 9588, 9630, 9773, 9782, 9881, 9902, 9950, 10000, 10000, 10200, 10300, 10400, 10400, 10500, 10600, 10600, 10600, 10700, 10900, 11000, 11000, 11100, 11100, 11100, 11200, 11200, 11300, 11300, 11400, 11400, 11500, 11500, 11500, 11600, 11700, 11700, 11700, 11700, 11800, 11800, 11900, 11900, 11900, 12000, 12000, 12100, 12100, 12100, 12200, 12200, 12300, 12300, 12300, 12400, 12400, 12400, 12600, 12600, 12600, 12600, 12600, 12600, 12700, 12700, 12700, 12800, 12800, 12800, 12900, 12900, 13000, 13000, 13100, 13100, 13200, 13300, 13300, 13400, 13400, 13500, 13500, 13500, 13600, 13600, 13700, 13800, 13800, 13800, 14000, 14100, 14400, 14400, 14400, 14500, 14600, 14600, 14600, 14700, 14700, 14700, 14800, 14900, 15000, 15000, 15000, 15100, 15200, 15400, 15400, 15500, 15700, 15700, 15800, 15800, 15900, 15900, 16000, 16100, 16400, 16400, 16400, 16600, 16700, 16700, 16700, 16800, 16800, 17000, 17100, 17100, 17200, 17400, 17400, 17600, 17600, 17800, 18800, 18900, 18900, 19000, 19000, 19000, 19600, 19600, 19600, 19700, 19800, 19900, 20000, 20100, 20200, 20300, 20300, 20400, 20500, 20500, 20500, 20500, 20600, 20700, 20800, 20900, 21200, 21300, 21300, 21400, 21600, 21600, 21700, 21800, 21800, 22000, 22100, 22200, 22400, 22400, 22500, 22500, 22800, 23000, 23000, 23200, 23200, 23200, 23400, 23500, 23700, 23900, 23900, 24000, 24000, 24200, 24300, 24500, 24700, 25000, 25100, 25100, 25200, 25200, 25700, 25800, 25900, 26000, 26200, 26300, 26400, 26600, 26600, 26700, 26900, 27400, 27700, 27700, 27900, 28000, 28000, 28100, 28400, 28500, 28800, 29000, 29200, 29500, 29700, 29900, 29900, 30000, 30200, 30400, 30500, 30600, 30700, 31100, 31100, 31200, 31900, 32000, 32100, 32200, 32500, 33000, 33000, 33400, 33800, 34100, 34300, 34500, 34700, 34900, 35400, 35600, 36100, 36300, 36400, 36500, 36500, 36700, 37000, 37100, 37200, 37900, 38200, 38700, 39000, 39200, 40400, 40600, 40900, 41000, 41200, 41500, 41900, 42600, 43400, 44200, 45900, 46100, 46200, 46500, 46500, 46500, 46900, 47300, 48100, 48300, 48700, 49400], \"xaxis\": \"x\", \"y\": [40.95060665900119, 41.1026414731298, 42.3020272290333, 42.82570269992074, 43.129772328177964, 43.14666508530336, 43.248021628055774, 43.332485413682775, 43.568984013438396, 44.07576672720044, 44.210908784203646, 44.24469429845445, 44.413621869708464, 44.56565668383708, 44.9035118263451, 44.95419009772131, 45.15690318322612, 45.35961626873094, 45.410294540107145, 45.59611486848656, 45.91707725386918, 46.94753543851866, 47.13335576689808, 47.302283338152094, 47.336068852402896, 47.3698543666537, 47.96110086604274, 48.18070670867296, 48.28206325142537, 48.467883579804784, 49.143593864820836, 49.160486621946234, 49.160486621946234, 49.29562867894945, 49.396985221701854, 49.43077073595266, 50.20783756372112, 50.35987237784973, 50.393657892100535, 50.44433616347674, 50.52879994910374, 50.54569270622915, 50.630156491856155, 50.64704924898155, 51.08626093424199, 51.153831962743595, 51.54236537662783, 51.59304364800403, 51.64372191938023, 51.72818570500724, 51.82954224775965, 52.18429014739308, 52.37011047577249, 52.555930804151906, 52.758643889656724, 52.758643889656724, 52.89378594665993, 53.09649903216475, 53.13028454641555, 53.197855574917156, 53.89045861705861, 54.211421002441234, 54.26209927381744, 54.278992030942845, 54.41413408794605, 54.684418201952475, 54.768881987579476, 54.802667501830285, 54.87023853033189, 55.69798362947655, 55.76555465797816, 55.81623292935436, 55.91758947210677, 56.55951424287202, 56.55951424287202, 57.133867985135666, 57.421044856267486, 57.894042055778726, 57.92782757002953, 58.48528855516777, 58.552859583669374, 59.07653505455682, 59.07653505455682, 59.07653505455682, 59.12721332593303, 59.144106083058425, 59.16099884018382, 59.313033654312434, 59.39749743993944, 59.41439019706485, 59.51574673981726, 59.583317768318864, 59.735352582447476, 60.596883195842935, 60.79959628134776, 60.90095282410016, 61.3739500236114, 61.61044862336702, 61.71180516611943, 61.77937619462104, 61.863839980248045, 61.965196523000444, 62.16790960850527, 62.16790960850527, 62.40440820826088, 62.47197923676249, 63.01254746477533, 63.113904007527736, 63.26593882165635, 63.28283157878175, 63.33350985015795, 63.35040260728336, 63.35040260728336, 63.8909708352962, 63.924756349547, 63.9416491066724, 64.14436219217723, 64.31328976343123, 64.33018252055663, 64.39775354905824, 64.56668112031225, 64.63425214881386, 64.80317972006787, 64.85385799144407, 65.1072493483251, 65.49578276220933, 65.59713930496173, 65.64781757633794, 65.95188720459517, 66.13770753297457, 66.323527861354, 66.49245543260801, 66.66138300386201, 66.84720333224143, 67.20195123187486, 67.40466431737968, 67.53980637438289, 67.59048464575909, 67.64116291713529, 68.09726735952114, 68.09726735952114, 68.60405007328318, 68.62094283040858, 68.72229937316098, 68.9587979729166, 69.24597484404842, 69.26286760117382, 69.33043862967543, 69.41490241530244, 69.56693722943105, 69.68518652930885, 69.83722134343748, 69.83722134343748, 70.15818372882009, 70.1919692430709, 70.1919692430709, 70.36089681432492, 70.44536059995193, 70.51293162845352, 70.51293162845352, 70.63118092833133, 70.76632298533454, 70.85078677096155, 70.98592882796476, 71.03660709934096, 71.05349985646637, 71.22242742772038, 71.23932018484578, 71.4082477560998, 71.62785359873001, 71.69542462723162, 71.84745944136023, 71.91503046986183, 72.13463631249205, 72.16842182674286, 72.28667112662066, 72.30356388374607, 72.32045664087147, 72.52316972637628, 72.57384799775248, 73.08063071151452, 73.38470033977174, 73.79012651078139, 74.39826576729584, 74.65165712417685, 74.82058469543085, 74.87126296680707, 75.00640502381027, 75.04019053806108, 75.04019053806108, 75.12465432368808, 75.41183119481991, 75.85104288008034, 75.86793563720575, 75.91861390858195, 76.17200526546297, 76.29025456534077, 76.39161110809319, 76.62810970784881, 76.69568073635041, 76.83082279335362, 77.16867793586164, 77.27003447861406, 77.28692723573945, 77.40517653561727, 77.67546064962369, 77.72613892099989, 78.09777957775873, 78.28359990613814, 78.41874196314134, 78.43563472026675, 78.45252747739215, 78.62145504864617, 78.68902607714776, 78.97620294827959, 79.0099884625304, 79.36473636216382, 79.71948426179725, 79.83773356167507, 79.95598286155287, 80.4120873039387, 80.93576277482615, 81.00333380332775, 81.18915413170717, 81.22293964595796, 81.35808170296119, 81.40875997433739, 81.42565273146278, 81.74661511684542, 82.01689923085183, 82.03379198797722, 82.32096885910906, 82.47300367323766, 82.54057470173927, 82.70950227299329, 82.76018054436949, 82.77707330149488, 82.9122153584981, 82.9797863869997, 83.30074877238233, 84.07781560015079, 84.38188522840801, 84.61838382816364, 86.08805369807355, 86.30765954070377, 86.40901608345618, 87.11851188272303, 87.45636702523106, 88.06450628174551, 88.18275558162333, 89.43281960890302, 89.82135302278725, 89.95649507979046, 90.14231540816988, 90.26056470804768, 90.39570676505089, 90.75045466468433, 90.95316775018914, 91.27413013557177, 92.33837383447204, 92.52419416285146, 92.54108691997686, 92.71001449123088, 92.76069276260708, 92.9296203338611, 93.40261753337234, 93.41951029049773, 93.48708131899934, 93.75736543300576, 93.80804370438196, 94.12900608976459, 94.2641481467678, 94.4668612322726, 94.55132501789961, 94.78782361765523, 94.87228740328224, 95.09189324591246, 95.29460633141727, 95.75071077380312, 95.80138904517932, 96.05478040206035, 96.59534863007318, 96.88252550120501, 96.96698928683202, 97.10213134383523, 97.27105891508924, 97.40620097209245, 97.69337784322427, 97.71027060034967, 97.76094887172587, 97.82851990022748, 97.92987644297989, 98.2001605569863, 98.36908812824032, 98.36908812824032, 98.40287364249113, 98.74072878499915, 98.75762154212455, 98.84208532775156, 99.01101289900558, 99.92322178377725, 100.5651465545425, 100.93678721130132, 101.08882202542993, 101.13950029680615, 101.59560473919197, 102.28820778133343, 102.50781362396364, 103.18352390897971, 103.40312975160992, 103.50448629436232, 103.55516456573852, 103.65652110849094, 104.16330382225297, 105.05861994989925, 105.09240546415006, 105.32890406390567, 105.46404612090888, 105.5316171494105, 105.83568677766772, 105.93704332042012, 106.17354192017572, 106.66343187681238, 106.9337159908188, 107.15332183344901, 107.71078281858726, 108.25135104660009, 108.50474240348112, 108.70745548898594, 108.79191927461295, 109.06220338861937, 109.19734544562257, 109.19734544562257, 109.552093345256, 109.56898610238142, 110.39673120152608, 110.68390807265789, 110.78526461541031, 111.08933424366754, 111.19069078641994, 111.56233144317875, 111.57922420030417, 111.81572280005977, 111.98465037131379, 112.0184358855646, 112.03532864268999, 112.33939827094721, 112.72793168483145, 112.87996649896007, 113.1333578558411, 113.43742748409832, 113.53878402685072, 113.80906814085714, 113.84285365510794, 114.8226335683812, 115.24495249651625, 115.65037866752587, 115.66727142465129, 115.8868772672815, 117.89711536520426, 118.3194342933393, 118.38700532184089, 118.77553873572512, 118.86000252135213, 119.01203733548076, 119.485034534992, 119.6708548633714, 120.17763757713345, 120.29588687701124, 120.70131304802089, 120.73509856227167, 120.7857768336479, 120.9884899191527, 121.37702333303693, 121.39391609016235, 121.44459436153855, 122.2047684321816, 122.67776563169284, 122.67776563169284, 122.72844390306904, 123.43793970233591, 123.65754554496613, 123.6913310592169, 123.99540068747413, 124.13054274447737, 124.26568480148057, 124.29947031573136, 124.63732545823939, 125.41439228600785, 125.54953434301106, 125.58331985726187, 125.9718532711461, 125.98874602827149, 126.15767359952551, 127.2894883269274, 127.45841589818141, 127.91452034056726, 128.33683926870228, 128.6915871683357, 128.7253726825865, 129.35040469622638, 130.60046872350605, 130.68493250913306, 130.73561078050926, 131.91810377928738, 132.20528065041918, 132.77963439268282, 133.18506056369247, 133.28641710644487, 133.3033098635703, 133.3539881349465, 133.5398084633259, 133.6411650060783, 133.7763070630815, 134.21551874834194, 134.63783767647698, 134.891229033358, 135.22908417586603, 135.43179726137083, 135.51626104699784, 135.53315380412326, 135.73586688962806, 135.76965240387887, 136.81700334565375, 137.2731077880396, 137.2731077880396, 137.91503255880485, 138.55695732957008, 138.7765631722003, 138.79345592932572, 138.91170522920353, 138.94549074345431, 139.46916621434175, 139.48605897146717, 139.68877205697197, 139.68877205697197, 139.8070213568498, 139.9759489281038, 140.17866201360863, 140.36448234198804, 141.73279566914553, 142.3071494114092, 142.34093492565998, 142.509862496914, 143.15178726767925, 143.7937120384445, 143.82749755269532, 143.96263960969853, 144.21603096657955, 144.23292372370494, 144.28360199508114, 144.52010059483675, 144.67213540896537, 145.44920223673384, 145.75327186499106, 146.12491252174988, 146.61480247838654, 146.64858799263732, 146.71615902113894, 146.74994453538974, 146.96955037801996, 146.96955037801996, 147.47633309178198, 148.8953246903157, 149.63860600383336, 149.75685530371118, 151.02381208811627, 152.7130878006564, 152.94958640041202, 153.35501257142167, 153.6084039283027, 153.7604387424313, 154.40236351319655, 156.1761030113637, 156.3112450683669, 156.58152918237332, 157.8147004525276, 157.96673526665623, 158.50730349466906, 158.9971934513057, 159.68979649344715, 159.74047476482338, 160.061437150206, 160.1627936929584, 160.26415023571082, 161.70003459136993, 162.13924627663036, 162.20681730513195, 162.4771014191384, 162.4771014191384, 162.629136233267, 162.7304927760194, 162.798063804521, 163.50755960378785, 163.54134511803866, 163.72716544641807, 164.38598297430872, 164.48733951706114, 165.1799425592026, 165.85565284421864, 166.04147317259807, 166.3455428008553, 166.5144703721093, 167.56182131388417, 168.69363604128608, 170.07884212556897, 170.80523068196123, 171.15997858159466, 171.51472648122808, 171.61608302398048, 173.64321387902865, 174.85949239205755, 175.21424029169097, 175.636559219826, 175.75480851970383, 175.80548679108003, 176.09266366221183, 176.5825536188485, 177.22447838961372, 177.25826390386453, 177.44408423224397, 178.11979451726, 178.1535800315108, 178.33940035989022, 178.59279171677125, 179.3191802731635, 179.79217747267475, 179.97799780105416, 180.6537080860702, 180.67060084319561, 180.97467047145284, 181.7517372992213, 184.3363291394077, 184.58972049628872, 185.6877497094398, 186.11006863757484, 186.6675296227131, 187.54595299323395, 189.4717273055297, 189.70822590528533, 189.91093899079013, 190.04608104779334, 190.24879413329816, 190.4008289474268, 192.0901046599669, 192.27592498834633, 192.59688737372895, 192.88406424486078, 193.1205628446164, 193.188133873118, 193.272597658745, 193.57666728700224, 193.99898621513725, 194.20169930064208, 194.43819790039768, 194.94498061415973, 195.06322991403755, 196.70182735520146, 196.9383259549571, 197.0565752548349, 197.49578694009534, 197.63092899709855, 197.88432035397958, 199.30331195251327, 199.5735960665197, 200.68851803679618, 201.0432659364296, 201.27976453618524, 201.58383416444246, 202.3946865064617, 202.69875613471893, 202.69875613471893, 203.4082519339858, 205.82391620291818, 205.9759510170468, 207.64833397246153, 208.00308187209495, 208.81393421411423, 209.65857207038428, 209.65857207038428, 213.03712349546456, 214.7263992080047, 216.41567492054483, 216.41567492054483, 218.10495063308497, 219.7942263456251, 219.7942263456251, 219.7942263456251, 221.48350205816521, 224.8620534832455, 226.55132919578563, 226.55132919578563, 228.24060490832576, 228.24060490832576, 228.24060490832576, 229.9298806208659, 229.9298806208659, 231.61915633340604, 231.61915633340604, 233.30843204594615, 233.30843204594615, 234.99770775848629, 234.99770775848629, 234.99770775848629, 236.68698347102642, 238.37625918356656, 238.37625918356656, 238.37625918356656, 238.37625918356656, 240.0655348961067, 240.0655348961067, 241.75481060864684, 241.75481060864684, 241.75481060864684, 243.44408632118697, 243.44408632118697, 245.13336203372708, 245.13336203372708, 245.13336203372708, 246.82263774626722, 246.82263774626722, 248.51191345880736, 248.51191345880736, 248.51191345880736, 250.2011891713475, 250.2011891713475, 250.2011891713475, 253.57974059642777, 253.57974059642777, 253.57974059642777, 253.57974059642777, 253.57974059642777, 253.57974059642777, 255.2690163089679, 255.2690163089679, 255.2690163089679, 256.95829202150804, 256.95829202150804, 256.95829202150804, 258.64756773404815, 258.64756773404815, 260.3368434465883, 260.3368434465883, 262.0261191591284, 262.0261191591284, 263.7153948716686, 265.4046705842087, 265.4046705842087, 267.09394629674887, 267.09394629674887, 268.783222009289, 268.783222009289, 268.783222009289, 270.4724977218291, 270.4724977218291, 272.16177343436925, 273.85104914690936, 273.85104914690936, 273.85104914690936, 277.22960057198964, 278.9188762845298, 283.9867034221502, 283.9867034221502, 283.9867034221502, 285.6759791346903, 287.36525484723046, 287.36525484723046, 287.36525484723046, 289.05453055977057, 289.05453055977057, 289.05453055977057, 290.74380627231074, 292.43308198485084, 294.12235769739095, 294.12235769739095, 294.12235769739095, 295.8116334099311, 297.5009091224712, 300.8794605475515, 300.8794605475515, 302.5687362600916, 305.9472876851719, 305.9472876851719, 307.63656339771205, 307.63656339771205, 309.32583911025216, 309.32583911025216, 311.01511482279227, 312.70439053533244, 317.7722176729528, 317.7722176729528, 317.7722176729528, 321.1507690980331, 322.8400448105732, 322.8400448105732, 322.8400448105732, 324.52932052311337, 324.52932052311337, 327.90787194819364, 329.59714766073375, 329.59714766073375, 331.2864233732739, 334.66497479835414, 334.66497479835414, 338.0435262234344, 338.0435262234344, 341.4220776485147, 358.314834773916, 360.00411048645617, 360.00411048645617, 361.6933861989963, 361.6933861989963, 361.6933861989963, 371.8290404742371, 371.8290404742371, 371.8290404742371, 373.5183161867772, 375.2075918993174, 376.8968676118575, 378.5861433243976, 380.27541903693776, 381.96469474947787, 383.65397046201804, 383.65397046201804, 385.34324617455815, 387.0325218870983, 387.0325218870983, 387.0325218870983, 387.0325218870983, 388.7217975996384, 390.41107331217853, 392.1003490247187, 393.7896247372588, 398.85745187487925, 400.54672758741935, 400.54672758741935, 402.23600329995946, 405.61455472503974, 405.61455472503974, 407.3038304375799, 408.99310615012, 408.99310615012, 412.3716575752003, 414.0609332877404, 415.75020900028056, 419.12876042536084, 419.12876042536084, 420.81803613790095, 420.81803613790095, 425.88586327552133, 429.2644147006016, 429.2644147006016, 432.6429661256819, 432.6429661256819, 432.6429661256819, 436.02151755076216, 437.71079326330226, 441.08934468838254, 444.4678961134628, 444.4678961134628, 446.157171826003, 446.157171826003, 449.5357232510832, 451.22499896362336, 454.60355038870364, 457.9821018137839, 463.0499289514043, 464.7392046639444, 464.7392046639444, 466.4284803764846, 466.4284803764846, 474.87485893918523, 476.56413465172534, 478.2534103642655, 479.9426860768056, 483.3212375018859, 485.010513214426, 486.69978892696616, 490.07834035204644, 490.07834035204644, 491.76761606458655, 495.1461674896668, 503.5925460523675, 508.66037318998787, 508.66037318998787, 512.0389246150681, 513.7282003276083, 513.7282003276083, 515.4174760401485, 520.4853031777689, 522.174578890309, 527.2424060279294, 530.6209574530096, 533.99950887809, 539.0673360157103, 542.4458874407906, 545.8244388658709, 545.8244388658709, 547.5137145784109, 550.8922660034913, 554.2708174285715, 555.9600931411117, 557.6493688536517, 559.3386445661919, 566.0957474163524, 566.0957474163524, 567.7850231288926, 579.6099531166735, 581.2992288292136, 582.9885045417537, 584.6777802542939, 589.7456073919143, 598.191985954615, 598.191985954615, 604.9490888047754, 611.706191654936, 616.7740187925564, 620.1525702176367, 623.5311216427169, 626.9096730677973, 630.2882244928775, 638.7346030555782, 642.1131544806584, 650.5595330433591, 653.9380844684393, 655.6273601809795, 657.3166358935197, 657.3166358935197, 660.6951873185999, 665.7630144562203, 667.4522901687604, 669.1415658813006, 680.9664958690815, 686.0343230067019, 694.4807015694025, 699.5485287070229, 702.9270801321032, 723.1983886825848, 726.5769401076651, 731.6447672452855, 733.3340429578257, 736.7125943829059, 741.7804215205263, 748.5375243706868, 760.3624543584677, 773.8766600587888, 787.3908657591098, 816.1085528722922, 819.4871042973724, 821.1763800099126, 826.244207147533, 826.244207147533, 826.244207147533, 833.0013099976935, 839.7584128478541, 853.272618548175, 856.6511699732554, 863.4082728234159, 875.2332028111969], \"yaxis\": \"y\"}],\n",
              "                        {\"legend\": {\"tracegroupgap\": 0}, \"margin\": {\"t\": 60}, \"template\": {\"data\": {\"bar\": [{\"error_x\": {\"color\": \"#2a3f5f\"}, \"error_y\": {\"color\": \"#2a3f5f\"}, \"marker\": {\"line\": {\"color\": \"white\", \"width\": 0.5}}, \"type\": \"bar\"}], \"barpolar\": [{\"marker\": {\"line\": {\"color\": \"white\", \"width\": 0.5}}, \"type\": \"barpolar\"}], \"carpet\": [{\"aaxis\": {\"endlinecolor\": \"#2a3f5f\", \"gridcolor\": \"#C8D4E3\", \"linecolor\": \"#C8D4E3\", \"minorgridcolor\": \"#C8D4E3\", \"startlinecolor\": \"#2a3f5f\"}, \"baxis\": {\"endlinecolor\": \"#2a3f5f\", \"gridcolor\": \"#C8D4E3\", \"linecolor\": \"#C8D4E3\", \"minorgridcolor\": \"#C8D4E3\", \"startlinecolor\": \"#2a3f5f\"}, \"type\": \"carpet\"}], \"choropleth\": [{\"colorbar\": {\"outlinewidth\": 0, \"ticks\": \"\"}, \"type\": \"choropleth\"}], \"contour\": [{\"colorbar\": {\"outlinewidth\": 0, \"ticks\": \"\"}, \"colorscale\": [[0.0, \"#0d0887\"], [0.1111111111111111, \"#46039f\"], [0.2222222222222222, \"#7201a8\"], [0.3333333333333333, \"#9c179e\"], [0.4444444444444444, \"#bd3786\"], [0.5555555555555556, \"#d8576b\"], [0.6666666666666666, \"#ed7953\"], [0.7777777777777778, \"#fb9f3a\"], [0.8888888888888888, \"#fdca26\"], [1.0, \"#f0f921\"]], \"type\": \"contour\"}], \"contourcarpet\": [{\"colorbar\": {\"outlinewidth\": 0, \"ticks\": \"\"}, \"type\": \"contourcarpet\"}], \"heatmap\": [{\"colorbar\": {\"outlinewidth\": 0, \"ticks\": \"\"}, \"colorscale\": [[0.0, \"#0d0887\"], [0.1111111111111111, \"#46039f\"], [0.2222222222222222, \"#7201a8\"], [0.3333333333333333, \"#9c179e\"], [0.4444444444444444, \"#bd3786\"], [0.5555555555555556, \"#d8576b\"], [0.6666666666666666, \"#ed7953\"], [0.7777777777777778, \"#fb9f3a\"], [0.8888888888888888, \"#fdca26\"], [1.0, \"#f0f921\"]], \"type\": \"heatmap\"}], \"heatmapgl\": [{\"colorbar\": {\"outlinewidth\": 0, \"ticks\": \"\"}, \"colorscale\": [[0.0, \"#0d0887\"], [0.1111111111111111, \"#46039f\"], [0.2222222222222222, \"#7201a8\"], [0.3333333333333333, \"#9c179e\"], [0.4444444444444444, \"#bd3786\"], [0.5555555555555556, \"#d8576b\"], [0.6666666666666666, \"#ed7953\"], [0.7777777777777778, \"#fb9f3a\"], [0.8888888888888888, \"#fdca26\"], [1.0, \"#f0f921\"]], \"type\": \"heatmapgl\"}], \"histogram\": [{\"marker\": {\"colorbar\": {\"outlinewidth\": 0, \"ticks\": \"\"}}, \"type\": \"histogram\"}], \"histogram2d\": [{\"colorbar\": {\"outlinewidth\": 0, \"ticks\": \"\"}, \"colorscale\": [[0.0, \"#0d0887\"], [0.1111111111111111, \"#46039f\"], [0.2222222222222222, \"#7201a8\"], [0.3333333333333333, \"#9c179e\"], [0.4444444444444444, \"#bd3786\"], [0.5555555555555556, \"#d8576b\"], [0.6666666666666666, \"#ed7953\"], [0.7777777777777778, \"#fb9f3a\"], [0.8888888888888888, \"#fdca26\"], [1.0, \"#f0f921\"]], \"type\": \"histogram2d\"}], \"histogram2dcontour\": [{\"colorbar\": {\"outlinewidth\": 0, \"ticks\": \"\"}, \"colorscale\": [[0.0, \"#0d0887\"], [0.1111111111111111, \"#46039f\"], [0.2222222222222222, \"#7201a8\"], [0.3333333333333333, \"#9c179e\"], [0.4444444444444444, \"#bd3786\"], [0.5555555555555556, \"#d8576b\"], [0.6666666666666666, \"#ed7953\"], [0.7777777777777778, \"#fb9f3a\"], [0.8888888888888888, \"#fdca26\"], [1.0, \"#f0f921\"]], \"type\": \"histogram2dcontour\"}], \"mesh3d\": [{\"colorbar\": {\"outlinewidth\": 0, \"ticks\": \"\"}, \"type\": \"mesh3d\"}], \"parcoords\": [{\"line\": {\"colorbar\": {\"outlinewidth\": 0, \"ticks\": \"\"}}, \"type\": \"parcoords\"}], \"pie\": [{\"automargin\": true, \"type\": \"pie\"}], \"scatter\": [{\"marker\": {\"colorbar\": {\"outlinewidth\": 0, \"ticks\": \"\"}}, \"type\": \"scatter\"}], \"scatter3d\": [{\"line\": {\"colorbar\": {\"outlinewidth\": 0, \"ticks\": \"\"}}, \"marker\": {\"colorbar\": {\"outlinewidth\": 0, \"ticks\": \"\"}}, \"type\": \"scatter3d\"}], \"scattercarpet\": [{\"marker\": {\"colorbar\": {\"outlinewidth\": 0, \"ticks\": \"\"}}, \"type\": \"scattercarpet\"}], \"scattergeo\": [{\"marker\": {\"colorbar\": {\"outlinewidth\": 0, \"ticks\": \"\"}}, \"type\": \"scattergeo\"}], \"scattergl\": [{\"marker\": {\"colorbar\": {\"outlinewidth\": 0, \"ticks\": \"\"}}, \"type\": \"scattergl\"}], \"scattermapbox\": [{\"marker\": {\"colorbar\": {\"outlinewidth\": 0, \"ticks\": \"\"}}, \"type\": \"scattermapbox\"}], \"scatterpolar\": [{\"marker\": {\"colorbar\": {\"outlinewidth\": 0, \"ticks\": \"\"}}, \"type\": \"scatterpolar\"}], \"scatterpolargl\": [{\"marker\": {\"colorbar\": {\"outlinewidth\": 0, \"ticks\": \"\"}}, \"type\": \"scatterpolargl\"}], \"scatterternary\": [{\"marker\": {\"colorbar\": {\"outlinewidth\": 0, \"ticks\": \"\"}}, \"type\": \"scatterternary\"}], \"surface\": [{\"colorbar\": {\"outlinewidth\": 0, \"ticks\": \"\"}, \"colorscale\": [[0.0, \"#0d0887\"], [0.1111111111111111, \"#46039f\"], [0.2222222222222222, \"#7201a8\"], [0.3333333333333333, \"#9c179e\"], [0.4444444444444444, \"#bd3786\"], [0.5555555555555556, \"#d8576b\"], [0.6666666666666666, \"#ed7953\"], [0.7777777777777778, \"#fb9f3a\"], [0.8888888888888888, \"#fdca26\"], [1.0, \"#f0f921\"]], \"type\": \"surface\"}], \"table\": [{\"cells\": {\"fill\": {\"color\": \"#EBF0F8\"}, \"line\": {\"color\": \"white\"}}, \"header\": {\"fill\": {\"color\": \"#C8D4E3\"}, \"line\": {\"color\": \"white\"}}, \"type\": \"table\"}]}, \"layout\": {\"annotationdefaults\": {\"arrowcolor\": \"#2a3f5f\", \"arrowhead\": 0, \"arrowwidth\": 1}, \"coloraxis\": {\"colorbar\": {\"outlinewidth\": 0, \"ticks\": \"\"}}, \"colorscale\": {\"diverging\": [[0, \"#8e0152\"], [0.1, \"#c51b7d\"], [0.2, \"#de77ae\"], [0.3, \"#f1b6da\"], [0.4, \"#fde0ef\"], [0.5, \"#f7f7f7\"], [0.6, \"#e6f5d0\"], [0.7, \"#b8e186\"], [0.8, \"#7fbc41\"], [0.9, \"#4d9221\"], [1, \"#276419\"]], \"sequential\": [[0.0, \"#0d0887\"], [0.1111111111111111, \"#46039f\"], [0.2222222222222222, \"#7201a8\"], [0.3333333333333333, \"#9c179e\"], [0.4444444444444444, \"#bd3786\"], [0.5555555555555556, \"#d8576b\"], [0.6666666666666666, \"#ed7953\"], [0.7777777777777778, \"#fb9f3a\"], [0.8888888888888888, \"#fdca26\"], [1.0, \"#f0f921\"]], \"sequentialminus\": [[0.0, \"#0d0887\"], [0.1111111111111111, \"#46039f\"], [0.2222222222222222, \"#7201a8\"], [0.3333333333333333, \"#9c179e\"], [0.4444444444444444, \"#bd3786\"], [0.5555555555555556, \"#d8576b\"], [0.6666666666666666, \"#ed7953\"], [0.7777777777777778, \"#fb9f3a\"], [0.8888888888888888, \"#fdca26\"], [1.0, \"#f0f921\"]]}, \"colorway\": [\"#636efa\", \"#EF553B\", \"#00cc96\", \"#ab63fa\", \"#FFA15A\", \"#19d3f3\", \"#FF6692\", \"#B6E880\", \"#FF97FF\", \"#FECB52\"], \"font\": {\"color\": \"#2a3f5f\"}, \"geo\": {\"bgcolor\": \"white\", \"lakecolor\": \"white\", \"landcolor\": \"white\", \"showlakes\": true, \"showland\": true, \"subunitcolor\": \"#C8D4E3\"}, \"hoverlabel\": {\"align\": \"left\"}, \"hovermode\": \"closest\", \"mapbox\": {\"style\": \"light\"}, \"paper_bgcolor\": \"white\", \"plot_bgcolor\": \"white\", \"polar\": {\"angularaxis\": {\"gridcolor\": \"#EBF0F8\", \"linecolor\": \"#EBF0F8\", \"ticks\": \"\"}, \"bgcolor\": \"white\", \"radialaxis\": {\"gridcolor\": \"#EBF0F8\", \"linecolor\": \"#EBF0F8\", \"ticks\": \"\"}}, \"scene\": {\"xaxis\": {\"backgroundcolor\": \"white\", \"gridcolor\": \"#DFE8F3\", \"gridwidth\": 2, \"linecolor\": \"#EBF0F8\", \"showbackground\": true, \"ticks\": \"\", \"zerolinecolor\": \"#EBF0F8\"}, \"yaxis\": {\"backgroundcolor\": \"white\", \"gridcolor\": \"#DFE8F3\", \"gridwidth\": 2, \"linecolor\": \"#EBF0F8\", \"showbackground\": true, \"ticks\": \"\", \"zerolinecolor\": \"#EBF0F8\"}, \"zaxis\": {\"backgroundcolor\": \"white\", \"gridcolor\": \"#DFE8F3\", \"gridwidth\": 2, \"linecolor\": \"#EBF0F8\", \"showbackground\": true, \"ticks\": \"\", \"zerolinecolor\": \"#EBF0F8\"}}, \"shapedefaults\": {\"line\": {\"color\": \"#2a3f5f\"}}, \"ternary\": {\"aaxis\": {\"gridcolor\": \"#DFE8F3\", \"linecolor\": \"#A2B1C6\", \"ticks\": \"\"}, \"baxis\": {\"gridcolor\": \"#DFE8F3\", \"linecolor\": \"#A2B1C6\", \"ticks\": \"\"}, \"bgcolor\": \"white\", \"caxis\": {\"gridcolor\": \"#DFE8F3\", \"linecolor\": \"#A2B1C6\", \"ticks\": \"\"}}, \"title\": {\"x\": 0.05}, \"xaxis\": {\"automargin\": true, \"gridcolor\": \"#EBF0F8\", \"linecolor\": \"#EBF0F8\", \"ticks\": \"\", \"title\": {\"standoff\": 15}, \"zerolinecolor\": \"#EBF0F8\", \"zerolinewidth\": 2}, \"yaxis\": {\"automargin\": true, \"gridcolor\": \"#EBF0F8\", \"linecolor\": \"#EBF0F8\", \"ticks\": \"\", \"title\": {\"standoff\": 15}, \"zerolinecolor\": \"#EBF0F8\", \"zerolinewidth\": 2}}}, \"xaxis\": {\"anchor\": \"y\", \"domain\": [0.0, 1.0], \"title\": {\"text\": \"Likes\"}}, \"yaxis\": {\"anchor\": \"x\", \"domain\": [0.0, 1.0], \"title\": {\"text\": \"Comments\"}, \"type\": \"log\"}},\n",
              "                        {\"responsive\": true}\n",
              "                    ).then(function(){\n",
              "                            \n",
              "var gd = document.getElementById('105cb7b4-489c-4850-8d56-ba8d7f0abcfc');\n",
              "var x = new MutationObserver(function (mutations, observer) {{\n",
              "        var display = window.getComputedStyle(gd).display;\n",
              "        if (!display || display === 'none') {{\n",
              "            console.log([gd, 'removed!']);\n",
              "            Plotly.purge(gd);\n",
              "            observer.disconnect();\n",
              "        }}\n",
              "}});\n",
              "\n",
              "// Listen for the removal of the full notebook cells\n",
              "var notebookContainer = gd.closest('#notebook-container');\n",
              "if (notebookContainer) {{\n",
              "    x.observe(notebookContainer, {childList: true});\n",
              "}}\n",
              "\n",
              "// Listen for the clearing of the current output cell\n",
              "var outputEl = gd.closest('.output');\n",
              "if (outputEl) {{\n",
              "    x.observe(outputEl, {childList: true});\n",
              "}}\n",
              "\n",
              "                        })\n",
              "                };\n",
              "                \n",
              "            </script>\n",
              "        </div>\n",
              "</body>\n",
              "</html>"
            ]
          },
          "metadata": {}
        }
      ]
    },
    {
      "cell_type": "markdown",
      "metadata": {
        "id": "bg9Id4G8geGk"
      },
      "source": [
        "insight:\n",
        "  1. positive correlation between likes and comments\n",
        "  2. there isn't a video with more than 20000 likes with less than 50 comments"
      ]
    },
    {
      "cell_type": "markdown",
      "metadata": {
        "id": "HuYppiEQh4_0"
      },
      "source": [
        "## 1.3 - Popular Hashtags"
      ]
    },
    {
      "cell_type": "code",
      "metadata": {
        "colab": {
          "base_uri": "https://localhost:8080/"
        },
        "id": "k-o_pZsph2xk",
        "outputId": "3d62dec5-b66d-4e4a-a486-ec22a71de480"
      },
      "source": [
        "# Create a DataFrame of the data\n",
        "df_hashtags = pd.DataFrame(trending_videos_list)\n",
        "\n",
        "# Let's expand the hashtag cell containing lists to multiple rows\n",
        "df_hashtags = df_hashtags.explode('hashtags')\n",
        "\n",
        "# Expand certain cells containing dictionaries to columns\n",
        "df_hashtags = df_hashtags.apply(object_to_columns, \n",
        "                                hashtags='hashtag', axis = 1)\n",
        "\n",
        "hashtags = df_hashtags[['hashtag.name']].copy().dropna()\n",
        "hashtags.info()"
      ],
      "execution_count": null,
      "outputs": [
        {
          "output_type": "stream",
          "name": "stdout",
          "text": [
            "<class 'pandas.core.frame.DataFrame'>\n",
            "Int64Index: 5330 entries, 2 to 999\n",
            "Data columns (total 1 columns):\n",
            " #   Column        Non-Null Count  Dtype \n",
            "---  ------        --------------  ----- \n",
            " 0   hashtag.name  5330 non-null   object\n",
            "dtypes: object(1)\n",
            "memory usage: 83.3+ KB\n"
          ]
        }
      ]
    },
    {
      "cell_type": "code",
      "metadata": {
        "colab": {
          "base_uri": "https://localhost:8080/",
          "height": 542
        },
        "id": "0_NaVhJgg2Mj",
        "outputId": "aaa58123-7c4f-4c24-e0e4-1b3064cd0f6e"
      },
      "source": [
        "# Add column with default value\n",
        "hashtags['count'] = 1\n",
        "\n",
        "# Count all hashtags, group and replace the count column value with the sum\n",
        "hashtags = hashtags.groupby([\"hashtag.name\"])[\"count\"].count().reset_index()\n",
        "\n",
        "# Sort by most popular hashtags and keep the top 15\n",
        "hashtags = hashtags.sort_values(by='count', ascending=False)[:15]\n",
        "\n",
        "# Set colours\n",
        "\n",
        "# Create a Pie Chart with all values\n",
        "fig = go.Figure(data=[go.Pie(\n",
        "                        labels=hashtags[\"hashtag.name\"], \n",
        "                        values=hashtags[\"count\"], \n",
        "                        textinfo='label+percent'\n",
        "                )], \n",
        "                layout={\"colorway\": [\"#f72585\",\"#b5179e\",\n",
        "                                     \"#7209b7\",\"#560bad\",\n",
        "                                     \"#480ca8\",\"#3a0ca3\",\n",
        "                                     \"#3f37c9\",\"#4361ee\",\n",
        "                                     \"#4895ef\",\"#4cc9f0\"]})\n",
        "fig.show()"
      ],
      "execution_count": null,
      "outputs": [
        {
          "output_type": "display_data",
          "data": {
            "text/html": [
              "<html>\n",
              "<head><meta charset=\"utf-8\" /></head>\n",
              "<body>\n",
              "    <div>\n",
              "            <script src=\"https://cdnjs.cloudflare.com/ajax/libs/mathjax/2.7.5/MathJax.js?config=TeX-AMS-MML_SVG\"></script><script type=\"text/javascript\">if (window.MathJax) {MathJax.Hub.Config({SVG: {font: \"STIX-Web\"}});}</script>\n",
              "                <script type=\"text/javascript\">window.PlotlyConfig = {MathJaxConfig: 'local'};</script>\n",
              "        <script src=\"https://cdn.plot.ly/plotly-latest.min.js\"></script>    \n",
              "            <div id=\"aee6aa85-febb-4d50-9e17-c923ebcf7ea0\" class=\"plotly-graph-div\" style=\"height:525px; width:100%;\"></div>\n",
              "            <script type=\"text/javascript\">\n",
              "                \n",
              "                    window.PLOTLYENV=window.PLOTLYENV || {};\n",
              "                    \n",
              "                if (document.getElementById(\"aee6aa85-febb-4d50-9e17-c923ebcf7ea0\")) {\n",
              "                    Plotly.newPlot(\n",
              "                        'aee6aa85-febb-4d50-9e17-c923ebcf7ea0',\n",
              "                        [{\"labels\": [\"fyp\", \"foryou\", \"foryoupage\", \"fy\", \"fitness\", \"workout\", \"voorjou\", \"viral\", \"animeedit\", \"anime\", \"gym\", \"transition\", \"duet\", \"horadearrasar\", \"powerlifting\"], \"textinfo\": \"label+percent\", \"type\": \"pie\", \"values\": [417, 272, 174, 116, 87, 73, 72, 65, 63, 50, 49, 43, 40, 40, 39]}],\n",
              "                        {\"colorway\": [\"#f72585\", \"#b5179e\", \"#7209b7\", \"#560bad\", \"#480ca8\", \"#3a0ca3\", \"#3f37c9\", \"#4361ee\", \"#4895ef\", \"#4cc9f0\"], \"template\": {\"data\": {\"bar\": [{\"error_x\": {\"color\": \"#2a3f5f\"}, \"error_y\": {\"color\": \"#2a3f5f\"}, \"marker\": {\"line\": {\"color\": \"#E5ECF6\", \"width\": 0.5}}, \"type\": \"bar\"}], \"barpolar\": [{\"marker\": {\"line\": {\"color\": \"#E5ECF6\", \"width\": 0.5}}, \"type\": \"barpolar\"}], \"carpet\": [{\"aaxis\": {\"endlinecolor\": \"#2a3f5f\", \"gridcolor\": \"white\", \"linecolor\": \"white\", \"minorgridcolor\": \"white\", \"startlinecolor\": \"#2a3f5f\"}, \"baxis\": {\"endlinecolor\": \"#2a3f5f\", \"gridcolor\": \"white\", \"linecolor\": \"white\", \"minorgridcolor\": \"white\", \"startlinecolor\": \"#2a3f5f\"}, \"type\": \"carpet\"}], \"choropleth\": [{\"colorbar\": {\"outlinewidth\": 0, \"ticks\": \"\"}, \"type\": \"choropleth\"}], \"contour\": [{\"colorbar\": {\"outlinewidth\": 0, \"ticks\": \"\"}, \"colorscale\": [[0.0, \"#0d0887\"], [0.1111111111111111, \"#46039f\"], [0.2222222222222222, \"#7201a8\"], [0.3333333333333333, \"#9c179e\"], [0.4444444444444444, \"#bd3786\"], [0.5555555555555556, \"#d8576b\"], [0.6666666666666666, \"#ed7953\"], [0.7777777777777778, \"#fb9f3a\"], [0.8888888888888888, \"#fdca26\"], [1.0, \"#f0f921\"]], \"type\": \"contour\"}], \"contourcarpet\": [{\"colorbar\": {\"outlinewidth\": 0, \"ticks\": \"\"}, \"type\": \"contourcarpet\"}], \"heatmap\": [{\"colorbar\": {\"outlinewidth\": 0, \"ticks\": \"\"}, \"colorscale\": [[0.0, \"#0d0887\"], [0.1111111111111111, \"#46039f\"], [0.2222222222222222, \"#7201a8\"], [0.3333333333333333, \"#9c179e\"], [0.4444444444444444, \"#bd3786\"], [0.5555555555555556, \"#d8576b\"], [0.6666666666666666, \"#ed7953\"], [0.7777777777777778, \"#fb9f3a\"], [0.8888888888888888, \"#fdca26\"], [1.0, \"#f0f921\"]], \"type\": \"heatmap\"}], \"heatmapgl\": [{\"colorbar\": {\"outlinewidth\": 0, \"ticks\": \"\"}, \"colorscale\": [[0.0, \"#0d0887\"], [0.1111111111111111, \"#46039f\"], [0.2222222222222222, \"#7201a8\"], [0.3333333333333333, \"#9c179e\"], [0.4444444444444444, \"#bd3786\"], [0.5555555555555556, \"#d8576b\"], [0.6666666666666666, \"#ed7953\"], [0.7777777777777778, \"#fb9f3a\"], [0.8888888888888888, \"#fdca26\"], [1.0, \"#f0f921\"]], \"type\": \"heatmapgl\"}], \"histogram\": [{\"marker\": {\"colorbar\": {\"outlinewidth\": 0, \"ticks\": \"\"}}, \"type\": \"histogram\"}], \"histogram2d\": [{\"colorbar\": {\"outlinewidth\": 0, \"ticks\": \"\"}, \"colorscale\": [[0.0, \"#0d0887\"], [0.1111111111111111, \"#46039f\"], [0.2222222222222222, \"#7201a8\"], [0.3333333333333333, \"#9c179e\"], [0.4444444444444444, \"#bd3786\"], [0.5555555555555556, \"#d8576b\"], [0.6666666666666666, \"#ed7953\"], [0.7777777777777778, \"#fb9f3a\"], [0.8888888888888888, \"#fdca26\"], [1.0, \"#f0f921\"]], \"type\": \"histogram2d\"}], \"histogram2dcontour\": [{\"colorbar\": {\"outlinewidth\": 0, \"ticks\": \"\"}, \"colorscale\": [[0.0, \"#0d0887\"], [0.1111111111111111, \"#46039f\"], [0.2222222222222222, \"#7201a8\"], [0.3333333333333333, \"#9c179e\"], [0.4444444444444444, \"#bd3786\"], [0.5555555555555556, \"#d8576b\"], [0.6666666666666666, \"#ed7953\"], [0.7777777777777778, \"#fb9f3a\"], [0.8888888888888888, \"#fdca26\"], [1.0, \"#f0f921\"]], \"type\": \"histogram2dcontour\"}], \"mesh3d\": [{\"colorbar\": {\"outlinewidth\": 0, \"ticks\": \"\"}, \"type\": \"mesh3d\"}], \"parcoords\": [{\"line\": {\"colorbar\": {\"outlinewidth\": 0, \"ticks\": \"\"}}, \"type\": \"parcoords\"}], \"pie\": [{\"automargin\": true, \"type\": \"pie\"}], \"scatter\": [{\"marker\": {\"colorbar\": {\"outlinewidth\": 0, \"ticks\": \"\"}}, \"type\": \"scatter\"}], \"scatter3d\": [{\"line\": {\"colorbar\": {\"outlinewidth\": 0, \"ticks\": \"\"}}, \"marker\": {\"colorbar\": {\"outlinewidth\": 0, \"ticks\": \"\"}}, \"type\": \"scatter3d\"}], \"scattercarpet\": [{\"marker\": {\"colorbar\": {\"outlinewidth\": 0, \"ticks\": \"\"}}, \"type\": \"scattercarpet\"}], \"scattergeo\": [{\"marker\": {\"colorbar\": {\"outlinewidth\": 0, \"ticks\": \"\"}}, \"type\": \"scattergeo\"}], \"scattergl\": [{\"marker\": {\"colorbar\": {\"outlinewidth\": 0, \"ticks\": \"\"}}, \"type\": \"scattergl\"}], \"scattermapbox\": [{\"marker\": {\"colorbar\": {\"outlinewidth\": 0, \"ticks\": \"\"}}, \"type\": \"scattermapbox\"}], \"scatterpolar\": [{\"marker\": {\"colorbar\": {\"outlinewidth\": 0, \"ticks\": \"\"}}, \"type\": \"scatterpolar\"}], \"scatterpolargl\": [{\"marker\": {\"colorbar\": {\"outlinewidth\": 0, \"ticks\": \"\"}}, \"type\": \"scatterpolargl\"}], \"scatterternary\": [{\"marker\": {\"colorbar\": {\"outlinewidth\": 0, \"ticks\": \"\"}}, \"type\": \"scatterternary\"}], \"surface\": [{\"colorbar\": {\"outlinewidth\": 0, \"ticks\": \"\"}, \"colorscale\": [[0.0, \"#0d0887\"], [0.1111111111111111, \"#46039f\"], [0.2222222222222222, \"#7201a8\"], [0.3333333333333333, \"#9c179e\"], [0.4444444444444444, \"#bd3786\"], [0.5555555555555556, \"#d8576b\"], [0.6666666666666666, \"#ed7953\"], [0.7777777777777778, \"#fb9f3a\"], [0.8888888888888888, \"#fdca26\"], [1.0, \"#f0f921\"]], \"type\": \"surface\"}], \"table\": [{\"cells\": {\"fill\": {\"color\": \"#EBF0F8\"}, \"line\": {\"color\": \"white\"}}, \"header\": {\"fill\": {\"color\": \"#C8D4E3\"}, \"line\": {\"color\": \"white\"}}, \"type\": \"table\"}]}, \"layout\": {\"annotationdefaults\": {\"arrowcolor\": \"#2a3f5f\", \"arrowhead\": 0, \"arrowwidth\": 1}, \"coloraxis\": {\"colorbar\": {\"outlinewidth\": 0, \"ticks\": \"\"}}, \"colorscale\": {\"diverging\": [[0, \"#8e0152\"], [0.1, \"#c51b7d\"], [0.2, \"#de77ae\"], [0.3, \"#f1b6da\"], [0.4, \"#fde0ef\"], [0.5, \"#f7f7f7\"], [0.6, \"#e6f5d0\"], [0.7, \"#b8e186\"], [0.8, \"#7fbc41\"], [0.9, \"#4d9221\"], [1, \"#276419\"]], \"sequential\": [[0.0, \"#0d0887\"], [0.1111111111111111, \"#46039f\"], [0.2222222222222222, \"#7201a8\"], [0.3333333333333333, \"#9c179e\"], [0.4444444444444444, \"#bd3786\"], [0.5555555555555556, \"#d8576b\"], [0.6666666666666666, \"#ed7953\"], [0.7777777777777778, \"#fb9f3a\"], [0.8888888888888888, \"#fdca26\"], [1.0, \"#f0f921\"]], \"sequentialminus\": [[0.0, \"#0d0887\"], [0.1111111111111111, \"#46039f\"], [0.2222222222222222, \"#7201a8\"], [0.3333333333333333, \"#9c179e\"], [0.4444444444444444, \"#bd3786\"], [0.5555555555555556, \"#d8576b\"], [0.6666666666666666, \"#ed7953\"], [0.7777777777777778, \"#fb9f3a\"], [0.8888888888888888, \"#fdca26\"], [1.0, \"#f0f921\"]]}, \"colorway\": [\"#636efa\", \"#EF553B\", \"#00cc96\", \"#ab63fa\", \"#FFA15A\", \"#19d3f3\", \"#FF6692\", \"#B6E880\", \"#FF97FF\", \"#FECB52\"], \"font\": {\"color\": \"#2a3f5f\"}, \"geo\": {\"bgcolor\": \"white\", \"lakecolor\": \"white\", \"landcolor\": \"#E5ECF6\", \"showlakes\": true, \"showland\": true, \"subunitcolor\": \"white\"}, \"hoverlabel\": {\"align\": \"left\"}, \"hovermode\": \"closest\", \"mapbox\": {\"style\": \"light\"}, \"paper_bgcolor\": \"white\", \"plot_bgcolor\": \"#E5ECF6\", \"polar\": {\"angularaxis\": {\"gridcolor\": \"white\", \"linecolor\": \"white\", \"ticks\": \"\"}, \"bgcolor\": \"#E5ECF6\", \"radialaxis\": {\"gridcolor\": \"white\", \"linecolor\": \"white\", \"ticks\": \"\"}}, \"scene\": {\"xaxis\": {\"backgroundcolor\": \"#E5ECF6\", \"gridcolor\": \"white\", \"gridwidth\": 2, \"linecolor\": \"white\", \"showbackground\": true, \"ticks\": \"\", \"zerolinecolor\": \"white\"}, \"yaxis\": {\"backgroundcolor\": \"#E5ECF6\", \"gridcolor\": \"white\", \"gridwidth\": 2, \"linecolor\": \"white\", \"showbackground\": true, \"ticks\": \"\", \"zerolinecolor\": \"white\"}, \"zaxis\": {\"backgroundcolor\": \"#E5ECF6\", \"gridcolor\": \"white\", \"gridwidth\": 2, \"linecolor\": \"white\", \"showbackground\": true, \"ticks\": \"\", \"zerolinecolor\": \"white\"}}, \"shapedefaults\": {\"line\": {\"color\": \"#2a3f5f\"}}, \"ternary\": {\"aaxis\": {\"gridcolor\": \"white\", \"linecolor\": \"white\", \"ticks\": \"\"}, \"baxis\": {\"gridcolor\": \"white\", \"linecolor\": \"white\", \"ticks\": \"\"}, \"bgcolor\": \"#E5ECF6\", \"caxis\": {\"gridcolor\": \"white\", \"linecolor\": \"white\", \"ticks\": \"\"}}, \"title\": {\"x\": 0.05}, \"xaxis\": {\"automargin\": true, \"gridcolor\": \"white\", \"linecolor\": \"white\", \"ticks\": \"\", \"title\": {\"standoff\": 15}, \"zerolinecolor\": \"white\", \"zerolinewidth\": 2}, \"yaxis\": {\"automargin\": true, \"gridcolor\": \"white\", \"linecolor\": \"white\", \"ticks\": \"\", \"title\": {\"standoff\": 15}, \"zerolinecolor\": \"white\", \"zerolinewidth\": 2}}}},\n",
              "                        {\"responsive\": true}\n",
              "                    ).then(function(){\n",
              "                            \n",
              "var gd = document.getElementById('aee6aa85-febb-4d50-9e17-c923ebcf7ea0');\n",
              "var x = new MutationObserver(function (mutations, observer) {{\n",
              "        var display = window.getComputedStyle(gd).display;\n",
              "        if (!display || display === 'none') {{\n",
              "            console.log([gd, 'removed!']);\n",
              "            Plotly.purge(gd);\n",
              "            observer.disconnect();\n",
              "        }}\n",
              "}});\n",
              "\n",
              "// Listen for the removal of the full notebook cells\n",
              "var notebookContainer = gd.closest('#notebook-container');\n",
              "if (notebookContainer) {{\n",
              "    x.observe(notebookContainer, {childList: true});\n",
              "}}\n",
              "\n",
              "// Listen for the clearing of the current output cell\n",
              "var outputEl = gd.closest('.output');\n",
              "if (outputEl) {{\n",
              "    x.observe(outputEl, {childList: true});\n",
              "}}\n",
              "\n",
              "                        })\n",
              "                };\n",
              "                \n",
              "            </script>\n",
              "        </div>\n",
              "</body>\n",
              "</html>"
            ]
          },
          "metadata": {}
        }
      ]
    },
    {
      "cell_type": "markdown",
      "metadata": {
        "id": "huJfnw-YjIYt"
      },
      "source": [
        "## 1.4 - Audio Data Analysis"
      ]
    },
    {
      "cell_type": "markdown",
      "metadata": {
        "id": "dRRkqjB8jQov"
      },
      "source": [
        "### 1.4.1 - Load Data"
      ]
    },
    {
      "cell_type": "code",
      "metadata": {
        "colab": {
          "base_uri": "https://localhost:8080/",
          "height": 460
        },
        "id": "giqHNubdjSuY",
        "outputId": "3da3b2bd-a70f-4a1d-e981-114cc42255cb"
      },
      "source": [
        "# Import Audd Data\n",
        "df_audd_music = pd.read_csv('../input/tiktok-trending-december-2020/audd/audd_music.csv', index_col='id')\n",
        "df_audd_music_apple = pd.read_csv('../input/tiktok-trending-december-2020/audd/audd_music_apple_music.csv')\n",
        "df_audd_music_spotify = pd.read_csv('../input/tiktok-trending-december-2020/audd/audd_music_spotify_music.csv')\n",
        "df_audd_music_spotify_artists = pd.read_csv('../input/tiktok-trending-december-2020/audd/audd_music_spotify_music_artists.csv')"
      ],
      "execution_count": null,
      "outputs": [
        {
          "output_type": "error",
          "ename": "FileNotFoundError",
          "evalue": "ignored",
          "traceback": [
            "\u001b[0;31m---------------------------------------------------------------------------\u001b[0m",
            "\u001b[0;31mFileNotFoundError\u001b[0m                         Traceback (most recent call last)",
            "\u001b[0;32m<ipython-input-3-052ce3bf695c>\u001b[0m in \u001b[0;36m<module>\u001b[0;34m()\u001b[0m\n\u001b[1;32m      1\u001b[0m \u001b[0;31m# Import Audd Data\u001b[0m\u001b[0;34m\u001b[0m\u001b[0;34m\u001b[0m\u001b[0;34m\u001b[0m\u001b[0m\n\u001b[0;32m----> 2\u001b[0;31m \u001b[0mdf_audd_music\u001b[0m \u001b[0;34m=\u001b[0m \u001b[0mpd\u001b[0m\u001b[0;34m.\u001b[0m\u001b[0mread_csv\u001b[0m\u001b[0;34m(\u001b[0m\u001b[0;34m'../input/tiktok-trending-december-2020/audd/audd_music.csv'\u001b[0m\u001b[0;34m,\u001b[0m \u001b[0mindex_col\u001b[0m\u001b[0;34m=\u001b[0m\u001b[0;34m'id'\u001b[0m\u001b[0;34m)\u001b[0m\u001b[0;34m\u001b[0m\u001b[0;34m\u001b[0m\u001b[0m\n\u001b[0m\u001b[1;32m      3\u001b[0m \u001b[0mdf_audd_music_apple\u001b[0m \u001b[0;34m=\u001b[0m \u001b[0mpd\u001b[0m\u001b[0;34m.\u001b[0m\u001b[0mread_csv\u001b[0m\u001b[0;34m(\u001b[0m\u001b[0;34m'../input/tiktok-trending-december-2020/audd/audd_music_apple_music.csv'\u001b[0m\u001b[0;34m)\u001b[0m\u001b[0;34m\u001b[0m\u001b[0;34m\u001b[0m\u001b[0m\n\u001b[1;32m      4\u001b[0m \u001b[0mdf_audd_music_spotify\u001b[0m \u001b[0;34m=\u001b[0m \u001b[0mpd\u001b[0m\u001b[0;34m.\u001b[0m\u001b[0mread_csv\u001b[0m\u001b[0;34m(\u001b[0m\u001b[0;34m'../input/tiktok-trending-december-2020/audd/audd_music_spotify_music.csv'\u001b[0m\u001b[0;34m)\u001b[0m\u001b[0;34m\u001b[0m\u001b[0;34m\u001b[0m\u001b[0m\n\u001b[1;32m      5\u001b[0m \u001b[0mdf_audd_music_spotify_artists\u001b[0m \u001b[0;34m=\u001b[0m \u001b[0mpd\u001b[0m\u001b[0;34m.\u001b[0m\u001b[0mread_csv\u001b[0m\u001b[0;34m(\u001b[0m\u001b[0;34m'../input/tiktok-trending-december-2020/audd/audd_music_spotify_music_artists.csv'\u001b[0m\u001b[0;34m)\u001b[0m\u001b[0;34m\u001b[0m\u001b[0;34m\u001b[0m\u001b[0m\n",
            "\u001b[0;32m/usr/local/lib/python3.7/dist-packages/pandas/io/parsers.py\u001b[0m in \u001b[0;36mread_csv\u001b[0;34m(filepath_or_buffer, sep, delimiter, header, names, index_col, usecols, squeeze, prefix, mangle_dupe_cols, dtype, engine, converters, true_values, false_values, skipinitialspace, skiprows, skipfooter, nrows, na_values, keep_default_na, na_filter, verbose, skip_blank_lines, parse_dates, infer_datetime_format, keep_date_col, date_parser, dayfirst, cache_dates, iterator, chunksize, compression, thousands, decimal, lineterminator, quotechar, quoting, doublequote, escapechar, comment, encoding, dialect, error_bad_lines, warn_bad_lines, delim_whitespace, low_memory, memory_map, float_precision)\u001b[0m\n\u001b[1;32m    686\u001b[0m     )\n\u001b[1;32m    687\u001b[0m \u001b[0;34m\u001b[0m\u001b[0m\n\u001b[0;32m--> 688\u001b[0;31m     \u001b[0;32mreturn\u001b[0m \u001b[0m_read\u001b[0m\u001b[0;34m(\u001b[0m\u001b[0mfilepath_or_buffer\u001b[0m\u001b[0;34m,\u001b[0m \u001b[0mkwds\u001b[0m\u001b[0;34m)\u001b[0m\u001b[0;34m\u001b[0m\u001b[0;34m\u001b[0m\u001b[0m\n\u001b[0m\u001b[1;32m    689\u001b[0m \u001b[0;34m\u001b[0m\u001b[0m\n\u001b[1;32m    690\u001b[0m \u001b[0;34m\u001b[0m\u001b[0m\n",
            "\u001b[0;32m/usr/local/lib/python3.7/dist-packages/pandas/io/parsers.py\u001b[0m in \u001b[0;36m_read\u001b[0;34m(filepath_or_buffer, kwds)\u001b[0m\n\u001b[1;32m    452\u001b[0m \u001b[0;34m\u001b[0m\u001b[0m\n\u001b[1;32m    453\u001b[0m     \u001b[0;31m# Create the parser.\u001b[0m\u001b[0;34m\u001b[0m\u001b[0;34m\u001b[0m\u001b[0;34m\u001b[0m\u001b[0m\n\u001b[0;32m--> 454\u001b[0;31m     \u001b[0mparser\u001b[0m \u001b[0;34m=\u001b[0m \u001b[0mTextFileReader\u001b[0m\u001b[0;34m(\u001b[0m\u001b[0mfp_or_buf\u001b[0m\u001b[0;34m,\u001b[0m \u001b[0;34m**\u001b[0m\u001b[0mkwds\u001b[0m\u001b[0;34m)\u001b[0m\u001b[0;34m\u001b[0m\u001b[0;34m\u001b[0m\u001b[0m\n\u001b[0m\u001b[1;32m    455\u001b[0m \u001b[0;34m\u001b[0m\u001b[0m\n\u001b[1;32m    456\u001b[0m     \u001b[0;32mif\u001b[0m \u001b[0mchunksize\u001b[0m \u001b[0;32mor\u001b[0m \u001b[0miterator\u001b[0m\u001b[0;34m:\u001b[0m\u001b[0;34m\u001b[0m\u001b[0;34m\u001b[0m\u001b[0m\n",
            "\u001b[0;32m/usr/local/lib/python3.7/dist-packages/pandas/io/parsers.py\u001b[0m in \u001b[0;36m__init__\u001b[0;34m(self, f, engine, **kwds)\u001b[0m\n\u001b[1;32m    946\u001b[0m             \u001b[0mself\u001b[0m\u001b[0;34m.\u001b[0m\u001b[0moptions\u001b[0m\u001b[0;34m[\u001b[0m\u001b[0;34m\"has_index_names\"\u001b[0m\u001b[0;34m]\u001b[0m \u001b[0;34m=\u001b[0m \u001b[0mkwds\u001b[0m\u001b[0;34m[\u001b[0m\u001b[0;34m\"has_index_names\"\u001b[0m\u001b[0;34m]\u001b[0m\u001b[0;34m\u001b[0m\u001b[0;34m\u001b[0m\u001b[0m\n\u001b[1;32m    947\u001b[0m \u001b[0;34m\u001b[0m\u001b[0m\n\u001b[0;32m--> 948\u001b[0;31m         \u001b[0mself\u001b[0m\u001b[0;34m.\u001b[0m\u001b[0m_make_engine\u001b[0m\u001b[0;34m(\u001b[0m\u001b[0mself\u001b[0m\u001b[0;34m.\u001b[0m\u001b[0mengine\u001b[0m\u001b[0;34m)\u001b[0m\u001b[0;34m\u001b[0m\u001b[0;34m\u001b[0m\u001b[0m\n\u001b[0m\u001b[1;32m    949\u001b[0m \u001b[0;34m\u001b[0m\u001b[0m\n\u001b[1;32m    950\u001b[0m     \u001b[0;32mdef\u001b[0m \u001b[0mclose\u001b[0m\u001b[0;34m(\u001b[0m\u001b[0mself\u001b[0m\u001b[0;34m)\u001b[0m\u001b[0;34m:\u001b[0m\u001b[0;34m\u001b[0m\u001b[0;34m\u001b[0m\u001b[0m\n",
            "\u001b[0;32m/usr/local/lib/python3.7/dist-packages/pandas/io/parsers.py\u001b[0m in \u001b[0;36m_make_engine\u001b[0;34m(self, engine)\u001b[0m\n\u001b[1;32m   1178\u001b[0m     \u001b[0;32mdef\u001b[0m \u001b[0m_make_engine\u001b[0m\u001b[0;34m(\u001b[0m\u001b[0mself\u001b[0m\u001b[0;34m,\u001b[0m \u001b[0mengine\u001b[0m\u001b[0;34m=\u001b[0m\u001b[0;34m\"c\"\u001b[0m\u001b[0;34m)\u001b[0m\u001b[0;34m:\u001b[0m\u001b[0;34m\u001b[0m\u001b[0;34m\u001b[0m\u001b[0m\n\u001b[1;32m   1179\u001b[0m         \u001b[0;32mif\u001b[0m \u001b[0mengine\u001b[0m \u001b[0;34m==\u001b[0m \u001b[0;34m\"c\"\u001b[0m\u001b[0;34m:\u001b[0m\u001b[0;34m\u001b[0m\u001b[0;34m\u001b[0m\u001b[0m\n\u001b[0;32m-> 1180\u001b[0;31m             \u001b[0mself\u001b[0m\u001b[0;34m.\u001b[0m\u001b[0m_engine\u001b[0m \u001b[0;34m=\u001b[0m \u001b[0mCParserWrapper\u001b[0m\u001b[0;34m(\u001b[0m\u001b[0mself\u001b[0m\u001b[0;34m.\u001b[0m\u001b[0mf\u001b[0m\u001b[0;34m,\u001b[0m \u001b[0;34m**\u001b[0m\u001b[0mself\u001b[0m\u001b[0;34m.\u001b[0m\u001b[0moptions\u001b[0m\u001b[0;34m)\u001b[0m\u001b[0;34m\u001b[0m\u001b[0;34m\u001b[0m\u001b[0m\n\u001b[0m\u001b[1;32m   1181\u001b[0m         \u001b[0;32melse\u001b[0m\u001b[0;34m:\u001b[0m\u001b[0;34m\u001b[0m\u001b[0;34m\u001b[0m\u001b[0m\n\u001b[1;32m   1182\u001b[0m             \u001b[0;32mif\u001b[0m \u001b[0mengine\u001b[0m \u001b[0;34m==\u001b[0m \u001b[0;34m\"python\"\u001b[0m\u001b[0;34m:\u001b[0m\u001b[0;34m\u001b[0m\u001b[0;34m\u001b[0m\u001b[0m\n",
            "\u001b[0;32m/usr/local/lib/python3.7/dist-packages/pandas/io/parsers.py\u001b[0m in \u001b[0;36m__init__\u001b[0;34m(self, src, **kwds)\u001b[0m\n\u001b[1;32m   2008\u001b[0m         \u001b[0mkwds\u001b[0m\u001b[0;34m[\u001b[0m\u001b[0;34m\"usecols\"\u001b[0m\u001b[0;34m]\u001b[0m \u001b[0;34m=\u001b[0m \u001b[0mself\u001b[0m\u001b[0;34m.\u001b[0m\u001b[0musecols\u001b[0m\u001b[0;34m\u001b[0m\u001b[0;34m\u001b[0m\u001b[0m\n\u001b[1;32m   2009\u001b[0m \u001b[0;34m\u001b[0m\u001b[0m\n\u001b[0;32m-> 2010\u001b[0;31m         \u001b[0mself\u001b[0m\u001b[0;34m.\u001b[0m\u001b[0m_reader\u001b[0m \u001b[0;34m=\u001b[0m \u001b[0mparsers\u001b[0m\u001b[0;34m.\u001b[0m\u001b[0mTextReader\u001b[0m\u001b[0;34m(\u001b[0m\u001b[0msrc\u001b[0m\u001b[0;34m,\u001b[0m \u001b[0;34m**\u001b[0m\u001b[0mkwds\u001b[0m\u001b[0;34m)\u001b[0m\u001b[0;34m\u001b[0m\u001b[0;34m\u001b[0m\u001b[0m\n\u001b[0m\u001b[1;32m   2011\u001b[0m         \u001b[0mself\u001b[0m\u001b[0;34m.\u001b[0m\u001b[0munnamed_cols\u001b[0m \u001b[0;34m=\u001b[0m \u001b[0mself\u001b[0m\u001b[0;34m.\u001b[0m\u001b[0m_reader\u001b[0m\u001b[0;34m.\u001b[0m\u001b[0munnamed_cols\u001b[0m\u001b[0;34m\u001b[0m\u001b[0;34m\u001b[0m\u001b[0m\n\u001b[1;32m   2012\u001b[0m \u001b[0;34m\u001b[0m\u001b[0m\n",
            "\u001b[0;32mpandas/_libs/parsers.pyx\u001b[0m in \u001b[0;36mpandas._libs.parsers.TextReader.__cinit__\u001b[0;34m()\u001b[0m\n",
            "\u001b[0;32mpandas/_libs/parsers.pyx\u001b[0m in \u001b[0;36mpandas._libs.parsers.TextReader._setup_parser_source\u001b[0;34m()\u001b[0m\n",
            "\u001b[0;31mFileNotFoundError\u001b[0m: [Errno 2] No such file or directory: '../input/tiktok-trending-december-2020/audd/audd_music.csv'"
          ]
        }
      ]
    },
    {
      "cell_type": "code",
      "metadata": {
        "id": "R159jR3ViPBE"
      },
      "source": [
        "# The current version of the dataset contains duplicated rows, let's remove them\n",
        "df_audd_music = df_audd_music.drop_duplicates()\n",
        "\n",
        "# Add prefix to this dataset, before merging\n",
        "df_audd_music = df_audd_music.add_prefix('_audd_music.')\n",
        "df_audd_music.shape"
      ],
      "execution_count": null,
      "outputs": []
    },
    {
      "cell_type": "code",
      "metadata": {
        "id": "S0DUGICjkJ5i"
      },
      "source": [
        "# Create a DataFrame of the data\n",
        "df_tiktok_music = pd.DataFrame(trending_videos_list)\n",
        "\n",
        "# Expand certain cells containing dictionaries to columns\n",
        "df_tiktok_music = df_tiktok_music.apply(object_to_columns, \n",
        "                                        musicMeta='musicMeta', axis = 1)\n",
        "\n",
        "# Convert the column dtype to int64 so we can merge\n",
        "df_tiktok_music['musicMeta.musicId'] = df_tiktok_music['musicMeta.musicId'].astype('int64')\n",
        "df_tiktok_music.shape"
      ],
      "execution_count": null,
      "outputs": []
    },
    {
      "cell_type": "code",
      "metadata": {
        "id": "FB7cmwHDkN_Z"
      },
      "source": [
        "df_tiktok_audd_music = df_tiktok_music.merge(df_audd_music, how='left', right_on='id', left_on='musicMeta.musicId')\n",
        "df_tiktok_audd_music.shape"
      ],
      "execution_count": null,
      "outputs": []
    },
    {
      "cell_type": "markdown",
      "metadata": {
        "id": "9YOLJd9UkIdx"
      },
      "source": [
        ""
      ]
    },
    {
      "cell_type": "markdown",
      "metadata": {
        "id": "oQoWtnjzwLzB"
      },
      "source": [
        "# 2 - Feature Extraction"
      ]
    },
    {
      "cell_type": "markdown",
      "metadata": {
        "id": "MuZOB_8bwn5m"
      },
      "source": [
        "## 2.1 - Audio Feature Extraction"
      ]
    },
    {
      "cell_type": "markdown",
      "metadata": {
        "id": "KyKADBmGw65O"
      },
      "source": [
        "### 2.1.1 - Cut Audio Feature into Frame"
      ]
    },
    {
      "cell_type": "markdown",
      "metadata": {
        "id": "eX0jO_G-w_iu"
      },
      "source": [
        "### 2.1.2 - Extract Audio Feature\n",
        "The audio features are extracted from a\n",
        "CNN architecture trained for audio classification\n",
        "\n",
        "S. Hershey, S. Chaudhuri, D. P. W. Ellis, J. F. Gemmeke, A. Jansen,\n",
        "C. Moore, M. Plakal, D. Platt, R. A. Saurous, B. Seybold, M. Slaney,\n",
        "R. Weiss, and K. Wilson, “CNN architectures for large-scale audio\n",
        "classification,” in International Conference on Acoustics, Speech and\n",
        "Signal Processing (ICASSP), 2017"
      ]
    },
    {
      "cell_type": "markdown",
      "metadata": {
        "id": "5xwHnQKDwwgg"
      },
      "source": [
        "## 2.2 - Video Feature Extraction"
      ]
    },
    {
      "cell_type": "markdown",
      "metadata": {
        "id": "J_kxoCxixhng"
      },
      "source": [
        "### 2.2.1 - Cut Video into Frame"
      ]
    },
    {
      "cell_type": "code",
      "metadata": {
        "id": "7rW4SRlwg2EC"
      },
      "source": [
        "from datetime import timedelta\n",
        "import cv2\n",
        "import numpy as np\n",
        "import os"
      ],
      "execution_count": null,
      "outputs": []
    },
    {
      "cell_type": "code",
      "metadata": {
        "id": "-f3d6TkSiWWv"
      },
      "source": [
        "SAVING_FRAMES_PER_SECOND = 1"
      ],
      "execution_count": null,
      "outputs": []
    },
    {
      "cell_type": "code",
      "metadata": {
        "id": "mvTu-OWViXtq"
      },
      "source": [
        "def format_timedelta(td):\n",
        "    \"\"\"Utility function to format timedelta objects in a cool way (e.g 00:00:20.05) \n",
        "    omitting microseconds and retaining milliseconds\"\"\"\n",
        "    result = str(td)\n",
        "    try:\n",
        "        result, ms = result.split(\".\")\n",
        "    except ValueError:\n",
        "        return result + \".00\".replace(\":\", \"-\")\n",
        "    ms = int(ms)\n",
        "    ms = round(ms / 1e4)\n",
        "    return f\"{result}.{ms:02}\".replace(\":\", \"-\")\n",
        "\n",
        "\n",
        "def get_saving_frames_durations(cap, saving_fps):\n",
        "    \"\"\"A function that returns the list of durations where to save the frames\"\"\"\n",
        "    s = []\n",
        "    # get the clip duration by dividing number of frames by the number of frames per second\n",
        "    clip_duration = cap.get(cv2.CAP_PROP_FRAME_COUNT) / cap.get(cv2.CAP_PROP_FPS)\n",
        "    # use np.arange() to make floating-point steps\n",
        "    for i in np.arange(0, clip_duration, 1 / saving_fps):\n",
        "        s.append(i)\n",
        "    return s\n",
        "\n",
        "def vid_to_frame(video_file, SAVING_FRAMES_PER_SECOND = 1):\n",
        "    fn, _ = os.path.splitext(video_file)\n",
        "    vid_id = fn[fn.rfind('/') + 1 :]\n",
        "    loc = fn[0:(fn.rfind('/', 0, fn.rfind('/'))+1)]\n",
        "    filename = loc + 'video_frame/' + vid_id\n",
        "    # make a folder by the name of the video file\n",
        "    if not os.path.isdir(filename):\n",
        "        os.mkdir(filename)\n",
        "    # read the video file    \n",
        "    cap = cv2.VideoCapture(video_file)\n",
        "    # get the FPS of the video\n",
        "    fps = cap.get(cv2.CAP_PROP_FPS)\n",
        "    # if the SAVING_FRAMES_PER_SECOND is above video FPS, then set it to FPS (as maximum)\n",
        "    saving_frames_per_second = min(fps, SAVING_FRAMES_PER_SECOND)\n",
        "    # get the list of duration spots to save\n",
        "    saving_frames_durations = get_saving_frames_durations(cap, saving_frames_per_second)\n",
        "    # start the loop\n",
        "    count = 0\n",
        "    while True:\n",
        "        is_read, frame = cap.read()\n",
        "        if not is_read:\n",
        "            # break out of the loop if there are no frames to read\n",
        "            break\n",
        "        # get the duration by dividing the frame count by the FPS\n",
        "        frame_duration = count / fps\n",
        "        try:\n",
        "            # get the earliest duration to save\n",
        "            closest_duration = saving_frames_durations[0]\n",
        "        except IndexError:\n",
        "            # the list is empty, all duration frames were saved\n",
        "            break\n",
        "        if frame_duration >= closest_duration:\n",
        "            # if closest duration is less than or equals the frame duration, \n",
        "            # then save the frame\n",
        "            frame_duration_formatted = format_timedelta(timedelta(seconds=frame_duration))\n",
        "            cv2.imwrite(os.path.join(filename, f\"frame{frame_duration_formatted}.jpg\"), frame) \n",
        "            # drop the duration spot from the list, since this duration spot is already saved\n",
        "            try:\n",
        "                saving_frames_durations.pop(0)\n",
        "            except IndexError:\n",
        "                pass\n",
        "        # increment the frame count\n",
        "        count += 1"
      ],
      "execution_count": null,
      "outputs": []
    },
    {
      "cell_type": "code",
      "metadata": {
        "id": "P5I4K04UhUEN"
      },
      "source": [
        "!rm -r ./drive/Shareddrives/CIS519/archive/video_frame"
      ],
      "execution_count": null,
      "outputs": []
    },
    {
      "cell_type": "code",
      "metadata": {
        "id": "XemA9T19otod"
      },
      "source": [
        "from os import listdir\n",
        "from os.path import isfile, join\n",
        "files = [join('./drive/Shareddrives/CIS519/archive/videos', f) for f in listdir('./drive/Shareddrives/CIS519/archive/videos') if isfile(join('./drive/Shareddrives/CIS519/archive/videos', f))]"
      ],
      "execution_count": null,
      "outputs": []
    },
    {
      "cell_type": "code",
      "metadata": {
        "id": "d-m1qYNPhHO1"
      },
      "source": [
        "df1 = df_unique_videos.sort_values('diggCount',ascending = False).reset_index()"
      ],
      "execution_count": 43,
      "outputs": []
    },
    {
      "cell_type": "code",
      "metadata": {
        "id": "beBjfBXlhvhQ"
      },
      "source": [
        "df1.loc[0:500, 'trending'] = True\n",
        "df1.loc[500:, 'trending'] = False"
      ],
      "execution_count": 49,
      "outputs": []
    },
    {
      "cell_type": "code",
      "metadata": {
        "id": "dVggQUFdikkA"
      },
      "source": [
        "label = df1[['trending', 'id']]"
      ],
      "execution_count": 51,
      "outputs": []
    },
    {
      "cell_type": "code",
      "metadata": {
        "id": "Se9TA1aRi9pl"
      },
      "source": [
        "label.to_csv('label.csv')"
      ],
      "execution_count": 54,
      "outputs": []
    },
    {
      "cell_type": "markdown",
      "metadata": {
        "id": "3n_jSw7j7zWt"
      },
      "source": [
        "Using the same extraction as youtubeM8\n",
        "https://github.com/google/mediapipe/tree/master/mediapipe/examples/desktop/youtube8m"
      ]
    },
    {
      "cell_type": "markdown",
      "metadata": {
        "id": "eoTmZut7xnF7"
      },
      "source": [
        "### 2.2.2 - Extract Video Feature\n",
        "The visual features consist of ReLU activations of the last fully connected layer from a publicly available2\n",
        "Inception network\n",
        "trained on Imagenet\n",
        "\n",
        "Inception Net\n"
      ]
    },
    {
      "cell_type": "markdown",
      "metadata": {
        "id": "vwkDoOtK7rhX"
      },
      "source": [
        "Using the same extraction as youtubeM8\n",
        "https://github.com/google/mediapipe/tree/master/mediapipe/examples/desktop/youtube8m"
      ]
    }
  ]
}